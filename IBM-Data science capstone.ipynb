{
 "cells": [
  {
   "cell_type": "markdown",
   "metadata": {},
   "source": [
    "# Applied data science capstone:<br>Traffic EDA & Predicting  accident severity"
   ]
  },
  {
   "cell_type": "markdown",
   "metadata": {},
   "source": [
    "Author: Orhan Taskopru <br>\n",
    "Date: 16-09-2020 <br>\n",
    "A project provided by IBM and Coursera <br>\n",
    "For more info:<br> \n",
    "https://www.coursera.org/learn/applied-data-science-capstone"
   ]
  },
  {
   "cell_type": "markdown",
   "metadata": {},
   "source": [
    "### 1. Introduction"
   ]
  },
  {
   "cell_type": "markdown",
   "metadata": {},
   "source": [
    "In this project a dataset that contains information regarding car accidents in Seattle will be used. This dataset will be used to build a machine learning model, which will predict the severity of car accidents. So, the business problem of this project is to get a better understanding of how traffic factors contribute to car accident severity. This knowledge can be used to make traffic saver, so the target audience for this data project is the government (which is responsible for save traffic)."
   ]
  },
  {
   "cell_type": "markdown",
   "metadata": {},
   "source": [
    "### 2. Data understanding"
   ]
  },
  {
   "cell_type": "markdown",
   "metadata": {},
   "source": [
    "The provided [Seattle dataset](https://s3.us.cloud-object-storage.appdomain.cloud/cf-courses-data/CognitiveClass/DP0701EN/version-2/Data-Collisions.csv)  has 37 attributes and 195.000 entries. It is recorded by SPD and Traffic Records, which entails accident details in seattle from 2004 to 2020. More information can be found [here](https://s3.us.cloud-object-storage.appdomain.cloud/cf-courses-data/CognitiveClass/DP0701EN/version-2/Metadata.pdf). Not all of the 37 attributes will used to build the model, because some of them are there just for syntax purposes and are not correlated with the accident severity. For example, the objectID's and incident keys will be removed during the data preparation process. The columns containing information about the driver in terms of inattention , drugs usage and alcohol usage are probably one of the valuable attributes that will be used in the machine learning model. Furthermore, attributes describing the conditions of the weather, lighting and road are also correlated with accident severity and will therefore be used for building the machine learning model. Lastly, some statistical research will be done to find out which attributes have a high correlation with accident severity. This will help us with choosing the right attributes for our model."
   ]
  },
  {
   "cell_type": "code",
   "execution_count": 59,
   "metadata": {},
   "outputs": [],
   "source": [
    "import pandas as pd\n",
    "import numpy as np\n",
    "import seaborn as sn\n",
    "import matplotlib.pyplot as plt\n",
    "import itertools\n",
    "import sklearn\n",
    "import matplotlib.ticker as ticker\n",
    "\n",
    "from sklearn import metrics\n",
    "from matplotlib.ticker import NullFormatter\n",
    "from sklearn.model_selection import train_test_split\n",
    "from sklearn.model_selection import cross_val_score\n",
    "from sklearn.metrics import jaccard_score\n",
    "from sklearn.metrics import f1_score\n",
    "from sklearn.metrics import log_loss\n"
   ]
  },
  {
   "cell_type": "code",
   "execution_count": 2,
   "metadata": {},
   "outputs": [],
   "source": [
    "df=pd.read_csv(\"C:/Users/Admin/Desktop/jwz/ilazim/Data-Collisions.csv\", low_memory=False)"
   ]
  },
  {
   "cell_type": "code",
   "execution_count": 3,
   "metadata": {},
   "outputs": [
    {
     "data": {
      "text/html": [
       "<div>\n",
       "<style scoped>\n",
       "    .dataframe tbody tr th:only-of-type {\n",
       "        vertical-align: middle;\n",
       "    }\n",
       "\n",
       "    .dataframe tbody tr th {\n",
       "        vertical-align: top;\n",
       "    }\n",
       "\n",
       "    .dataframe thead th {\n",
       "        text-align: right;\n",
       "    }\n",
       "</style>\n",
       "<table border=\"1\" class=\"dataframe\">\n",
       "  <thead>\n",
       "    <tr style=\"text-align: right;\">\n",
       "      <th></th>\n",
       "      <th>SEVERITYCODE</th>\n",
       "      <th>X</th>\n",
       "      <th>Y</th>\n",
       "      <th>OBJECTID</th>\n",
       "      <th>INCKEY</th>\n",
       "      <th>COLDETKEY</th>\n",
       "      <th>REPORTNO</th>\n",
       "      <th>STATUS</th>\n",
       "      <th>ADDRTYPE</th>\n",
       "      <th>INTKEY</th>\n",
       "      <th>...</th>\n",
       "      <th>ROADCOND</th>\n",
       "      <th>LIGHTCOND</th>\n",
       "      <th>PEDROWNOTGRNT</th>\n",
       "      <th>SDOTCOLNUM</th>\n",
       "      <th>SPEEDING</th>\n",
       "      <th>ST_COLCODE</th>\n",
       "      <th>ST_COLDESC</th>\n",
       "      <th>SEGLANEKEY</th>\n",
       "      <th>CROSSWALKKEY</th>\n",
       "      <th>HITPARKEDCAR</th>\n",
       "    </tr>\n",
       "  </thead>\n",
       "  <tbody>\n",
       "    <tr>\n",
       "      <th>0</th>\n",
       "      <td>2</td>\n",
       "      <td>-122.323148</td>\n",
       "      <td>47.703140</td>\n",
       "      <td>1</td>\n",
       "      <td>1307</td>\n",
       "      <td>1307</td>\n",
       "      <td>3502005</td>\n",
       "      <td>Matched</td>\n",
       "      <td>Intersection</td>\n",
       "      <td>37475.0</td>\n",
       "      <td>...</td>\n",
       "      <td>Wet</td>\n",
       "      <td>Daylight</td>\n",
       "      <td>NaN</td>\n",
       "      <td>NaN</td>\n",
       "      <td>NaN</td>\n",
       "      <td>10</td>\n",
       "      <td>Entering at angle</td>\n",
       "      <td>0</td>\n",
       "      <td>0</td>\n",
       "      <td>N</td>\n",
       "    </tr>\n",
       "    <tr>\n",
       "      <th>1</th>\n",
       "      <td>1</td>\n",
       "      <td>-122.347294</td>\n",
       "      <td>47.647172</td>\n",
       "      <td>2</td>\n",
       "      <td>52200</td>\n",
       "      <td>52200</td>\n",
       "      <td>2607959</td>\n",
       "      <td>Matched</td>\n",
       "      <td>Block</td>\n",
       "      <td>NaN</td>\n",
       "      <td>...</td>\n",
       "      <td>Wet</td>\n",
       "      <td>Dark - Street Lights On</td>\n",
       "      <td>NaN</td>\n",
       "      <td>6354039.0</td>\n",
       "      <td>NaN</td>\n",
       "      <td>11</td>\n",
       "      <td>From same direction - both going straight - bo...</td>\n",
       "      <td>0</td>\n",
       "      <td>0</td>\n",
       "      <td>N</td>\n",
       "    </tr>\n",
       "    <tr>\n",
       "      <th>2</th>\n",
       "      <td>1</td>\n",
       "      <td>-122.334540</td>\n",
       "      <td>47.607871</td>\n",
       "      <td>3</td>\n",
       "      <td>26700</td>\n",
       "      <td>26700</td>\n",
       "      <td>1482393</td>\n",
       "      <td>Matched</td>\n",
       "      <td>Block</td>\n",
       "      <td>NaN</td>\n",
       "      <td>...</td>\n",
       "      <td>Dry</td>\n",
       "      <td>Daylight</td>\n",
       "      <td>NaN</td>\n",
       "      <td>4323031.0</td>\n",
       "      <td>NaN</td>\n",
       "      <td>32</td>\n",
       "      <td>One parked--one moving</td>\n",
       "      <td>0</td>\n",
       "      <td>0</td>\n",
       "      <td>N</td>\n",
       "    </tr>\n",
       "    <tr>\n",
       "      <th>3</th>\n",
       "      <td>1</td>\n",
       "      <td>-122.334803</td>\n",
       "      <td>47.604803</td>\n",
       "      <td>4</td>\n",
       "      <td>1144</td>\n",
       "      <td>1144</td>\n",
       "      <td>3503937</td>\n",
       "      <td>Matched</td>\n",
       "      <td>Block</td>\n",
       "      <td>NaN</td>\n",
       "      <td>...</td>\n",
       "      <td>Dry</td>\n",
       "      <td>Daylight</td>\n",
       "      <td>NaN</td>\n",
       "      <td>NaN</td>\n",
       "      <td>NaN</td>\n",
       "      <td>23</td>\n",
       "      <td>From same direction - all others</td>\n",
       "      <td>0</td>\n",
       "      <td>0</td>\n",
       "      <td>N</td>\n",
       "    </tr>\n",
       "    <tr>\n",
       "      <th>4</th>\n",
       "      <td>2</td>\n",
       "      <td>-122.306426</td>\n",
       "      <td>47.545739</td>\n",
       "      <td>5</td>\n",
       "      <td>17700</td>\n",
       "      <td>17700</td>\n",
       "      <td>1807429</td>\n",
       "      <td>Matched</td>\n",
       "      <td>Intersection</td>\n",
       "      <td>34387.0</td>\n",
       "      <td>...</td>\n",
       "      <td>Wet</td>\n",
       "      <td>Daylight</td>\n",
       "      <td>NaN</td>\n",
       "      <td>4028032.0</td>\n",
       "      <td>NaN</td>\n",
       "      <td>10</td>\n",
       "      <td>Entering at angle</td>\n",
       "      <td>0</td>\n",
       "      <td>0</td>\n",
       "      <td>N</td>\n",
       "    </tr>\n",
       "  </tbody>\n",
       "</table>\n",
       "<p>5 rows × 38 columns</p>\n",
       "</div>"
      ],
      "text/plain": [
       "   SEVERITYCODE           X          Y  OBJECTID  INCKEY  COLDETKEY REPORTNO  \\\n",
       "0             2 -122.323148  47.703140         1    1307       1307  3502005   \n",
       "1             1 -122.347294  47.647172         2   52200      52200  2607959   \n",
       "2             1 -122.334540  47.607871         3   26700      26700  1482393   \n",
       "3             1 -122.334803  47.604803         4    1144       1144  3503937   \n",
       "4             2 -122.306426  47.545739         5   17700      17700  1807429   \n",
       "\n",
       "    STATUS      ADDRTYPE   INTKEY  ... ROADCOND                LIGHTCOND  \\\n",
       "0  Matched  Intersection  37475.0  ...      Wet                 Daylight   \n",
       "1  Matched         Block      NaN  ...      Wet  Dark - Street Lights On   \n",
       "2  Matched         Block      NaN  ...      Dry                 Daylight   \n",
       "3  Matched         Block      NaN  ...      Dry                 Daylight   \n",
       "4  Matched  Intersection  34387.0  ...      Wet                 Daylight   \n",
       "\n",
       "  PEDROWNOTGRNT  SDOTCOLNUM SPEEDING ST_COLCODE  \\\n",
       "0           NaN         NaN      NaN         10   \n",
       "1           NaN   6354039.0      NaN         11   \n",
       "2           NaN   4323031.0      NaN         32   \n",
       "3           NaN         NaN      NaN         23   \n",
       "4           NaN   4028032.0      NaN         10   \n",
       "\n",
       "                                          ST_COLDESC  SEGLANEKEY  \\\n",
       "0                                  Entering at angle           0   \n",
       "1  From same direction - both going straight - bo...           0   \n",
       "2                             One parked--one moving           0   \n",
       "3                   From same direction - all others           0   \n",
       "4                                  Entering at angle           0   \n",
       "\n",
       "   CROSSWALKKEY  HITPARKEDCAR  \n",
       "0             0             N  \n",
       "1             0             N  \n",
       "2             0             N  \n",
       "3             0             N  \n",
       "4             0             N  \n",
       "\n",
       "[5 rows x 38 columns]"
      ]
     },
     "execution_count": 3,
     "metadata": {},
     "output_type": "execute_result"
    }
   ],
   "source": [
    "df.head()"
   ]
  },
  {
   "cell_type": "code",
   "execution_count": 4,
   "metadata": {},
   "outputs": [
    {
     "name": "stdout",
     "output_type": "stream",
     "text": [
      "<class 'pandas.core.frame.DataFrame'>\n",
      "RangeIndex: 194673 entries, 0 to 194672\n",
      "Data columns (total 38 columns):\n",
      " #   Column          Non-Null Count   Dtype  \n",
      "---  ------          --------------   -----  \n",
      " 0   SEVERITYCODE    194673 non-null  int64  \n",
      " 1   X               189339 non-null  float64\n",
      " 2   Y               189339 non-null  float64\n",
      " 3   OBJECTID        194673 non-null  int64  \n",
      " 4   INCKEY          194673 non-null  int64  \n",
      " 5   COLDETKEY       194673 non-null  int64  \n",
      " 6   REPORTNO        194673 non-null  object \n",
      " 7   STATUS          194673 non-null  object \n",
      " 8   ADDRTYPE        192747 non-null  object \n",
      " 9   INTKEY          65070 non-null   float64\n",
      " 10  LOCATION        191996 non-null  object \n",
      " 11  EXCEPTRSNCODE   84811 non-null   object \n",
      " 12  EXCEPTRSNDESC   5638 non-null    object \n",
      " 13  SEVERITYCODE.1  194673 non-null  int64  \n",
      " 14  SEVERITYDESC    194673 non-null  object \n",
      " 15  COLLISIONTYPE   189769 non-null  object \n",
      " 16  PERSONCOUNT     194673 non-null  int64  \n",
      " 17  PEDCOUNT        194673 non-null  int64  \n",
      " 18  PEDCYLCOUNT     194673 non-null  int64  \n",
      " 19  VEHCOUNT        194673 non-null  int64  \n",
      " 20  INCDATE         194673 non-null  object \n",
      " 21  INCDTTM         194673 non-null  object \n",
      " 22  JUNCTIONTYPE    188344 non-null  object \n",
      " 23  SDOT_COLCODE    194673 non-null  int64  \n",
      " 24  SDOT_COLDESC    194673 non-null  object \n",
      " 25  INATTENTIONIND  29805 non-null   object \n",
      " 26  UNDERINFL       189789 non-null  object \n",
      " 27  WEATHER         189592 non-null  object \n",
      " 28  ROADCOND        189661 non-null  object \n",
      " 29  LIGHTCOND       189503 non-null  object \n",
      " 30  PEDROWNOTGRNT   4667 non-null    object \n",
      " 31  SDOTCOLNUM      114936 non-null  float64\n",
      " 32  SPEEDING        9333 non-null    object \n",
      " 33  ST_COLCODE      194655 non-null  object \n",
      " 34  ST_COLDESC      189769 non-null  object \n",
      " 35  SEGLANEKEY      194673 non-null  int64  \n",
      " 36  CROSSWALKKEY    194673 non-null  int64  \n",
      " 37  HITPARKEDCAR    194673 non-null  object \n",
      "dtypes: float64(4), int64(12), object(22)\n",
      "memory usage: 56.4+ MB\n"
     ]
    }
   ],
   "source": [
    "df.info()"
   ]
  },
  {
   "cell_type": "code",
   "execution_count": 5,
   "metadata": {},
   "outputs": [
    {
     "data": {
      "text/plain": [
       "SEVERITYCODE           0\n",
       "X                   5334\n",
       "Y                   5334\n",
       "OBJECTID               0\n",
       "INCKEY                 0\n",
       "COLDETKEY              0\n",
       "REPORTNO               0\n",
       "STATUS                 0\n",
       "ADDRTYPE            1926\n",
       "INTKEY            129603\n",
       "LOCATION            2677\n",
       "EXCEPTRSNCODE     109862\n",
       "EXCEPTRSNDESC     189035\n",
       "SEVERITYCODE.1         0\n",
       "SEVERITYDESC           0\n",
       "COLLISIONTYPE       4904\n",
       "PERSONCOUNT            0\n",
       "PEDCOUNT               0\n",
       "PEDCYLCOUNT            0\n",
       "VEHCOUNT               0\n",
       "INCDATE                0\n",
       "INCDTTM                0\n",
       "JUNCTIONTYPE        6329\n",
       "SDOT_COLCODE           0\n",
       "SDOT_COLDESC           0\n",
       "INATTENTIONIND    164868\n",
       "UNDERINFL           4884\n",
       "WEATHER             5081\n",
       "ROADCOND            5012\n",
       "LIGHTCOND           5170\n",
       "PEDROWNOTGRNT     190006\n",
       "SDOTCOLNUM         79737\n",
       "SPEEDING          185340\n",
       "ST_COLCODE            18\n",
       "ST_COLDESC          4904\n",
       "SEGLANEKEY             0\n",
       "CROSSWALKKEY           0\n",
       "HITPARKEDCAR           0\n",
       "dtype: int64"
      ]
     },
     "execution_count": 5,
     "metadata": {},
     "output_type": "execute_result"
    }
   ],
   "source": [
    "df.isnull().sum()"
   ]
  },
  {
   "cell_type": "code",
   "execution_count": 6,
   "metadata": {},
   "outputs": [
    {
     "data": {
      "text/html": [
       "<div>\n",
       "<style scoped>\n",
       "    .dataframe tbody tr th:only-of-type {\n",
       "        vertical-align: middle;\n",
       "    }\n",
       "\n",
       "    .dataframe tbody tr th {\n",
       "        vertical-align: top;\n",
       "    }\n",
       "\n",
       "    .dataframe thead th {\n",
       "        text-align: right;\n",
       "    }\n",
       "</style>\n",
       "<table border=\"1\" class=\"dataframe\">\n",
       "  <thead>\n",
       "    <tr style=\"text-align: right;\">\n",
       "      <th></th>\n",
       "      <th>SEVERITYCODE</th>\n",
       "      <th>X</th>\n",
       "      <th>Y</th>\n",
       "      <th>OBJECTID</th>\n",
       "      <th>INCKEY</th>\n",
       "      <th>COLDETKEY</th>\n",
       "      <th>INTKEY</th>\n",
       "      <th>SEVERITYCODE.1</th>\n",
       "      <th>PERSONCOUNT</th>\n",
       "      <th>PEDCOUNT</th>\n",
       "      <th>PEDCYLCOUNT</th>\n",
       "      <th>VEHCOUNT</th>\n",
       "      <th>SDOT_COLCODE</th>\n",
       "      <th>SDOTCOLNUM</th>\n",
       "      <th>SEGLANEKEY</th>\n",
       "      <th>CROSSWALKKEY</th>\n",
       "    </tr>\n",
       "  </thead>\n",
       "  <tbody>\n",
       "    <tr>\n",
       "      <th>count</th>\n",
       "      <td>194673.000000</td>\n",
       "      <td>189339.000000</td>\n",
       "      <td>189339.000000</td>\n",
       "      <td>194673.000000</td>\n",
       "      <td>194673.000000</td>\n",
       "      <td>194673.000000</td>\n",
       "      <td>65070.000000</td>\n",
       "      <td>194673.000000</td>\n",
       "      <td>194673.000000</td>\n",
       "      <td>194673.000000</td>\n",
       "      <td>194673.000000</td>\n",
       "      <td>194673.000000</td>\n",
       "      <td>194673.000000</td>\n",
       "      <td>1.149360e+05</td>\n",
       "      <td>194673.000000</td>\n",
       "      <td>1.946730e+05</td>\n",
       "    </tr>\n",
       "    <tr>\n",
       "      <th>mean</th>\n",
       "      <td>1.298901</td>\n",
       "      <td>-122.330518</td>\n",
       "      <td>47.619543</td>\n",
       "      <td>108479.364930</td>\n",
       "      <td>141091.456350</td>\n",
       "      <td>141298.811381</td>\n",
       "      <td>37558.450576</td>\n",
       "      <td>1.298901</td>\n",
       "      <td>2.444427</td>\n",
       "      <td>0.037139</td>\n",
       "      <td>0.028391</td>\n",
       "      <td>1.920780</td>\n",
       "      <td>13.867768</td>\n",
       "      <td>7.972521e+06</td>\n",
       "      <td>269.401114</td>\n",
       "      <td>9.782452e+03</td>\n",
       "    </tr>\n",
       "    <tr>\n",
       "      <th>std</th>\n",
       "      <td>0.457778</td>\n",
       "      <td>0.029976</td>\n",
       "      <td>0.056157</td>\n",
       "      <td>62649.722558</td>\n",
       "      <td>86634.402737</td>\n",
       "      <td>86986.542110</td>\n",
       "      <td>51745.990273</td>\n",
       "      <td>0.457778</td>\n",
       "      <td>1.345929</td>\n",
       "      <td>0.198150</td>\n",
       "      <td>0.167413</td>\n",
       "      <td>0.631047</td>\n",
       "      <td>6.868755</td>\n",
       "      <td>2.553533e+06</td>\n",
       "      <td>3315.776055</td>\n",
       "      <td>7.226926e+04</td>\n",
       "    </tr>\n",
       "    <tr>\n",
       "      <th>min</th>\n",
       "      <td>1.000000</td>\n",
       "      <td>-122.419091</td>\n",
       "      <td>47.495573</td>\n",
       "      <td>1.000000</td>\n",
       "      <td>1001.000000</td>\n",
       "      <td>1001.000000</td>\n",
       "      <td>23807.000000</td>\n",
       "      <td>1.000000</td>\n",
       "      <td>0.000000</td>\n",
       "      <td>0.000000</td>\n",
       "      <td>0.000000</td>\n",
       "      <td>0.000000</td>\n",
       "      <td>0.000000</td>\n",
       "      <td>1.007024e+06</td>\n",
       "      <td>0.000000</td>\n",
       "      <td>0.000000e+00</td>\n",
       "    </tr>\n",
       "    <tr>\n",
       "      <th>25%</th>\n",
       "      <td>1.000000</td>\n",
       "      <td>-122.348673</td>\n",
       "      <td>47.575956</td>\n",
       "      <td>54267.000000</td>\n",
       "      <td>70383.000000</td>\n",
       "      <td>70383.000000</td>\n",
       "      <td>28667.000000</td>\n",
       "      <td>1.000000</td>\n",
       "      <td>2.000000</td>\n",
       "      <td>0.000000</td>\n",
       "      <td>0.000000</td>\n",
       "      <td>2.000000</td>\n",
       "      <td>11.000000</td>\n",
       "      <td>6.040015e+06</td>\n",
       "      <td>0.000000</td>\n",
       "      <td>0.000000e+00</td>\n",
       "    </tr>\n",
       "    <tr>\n",
       "      <th>50%</th>\n",
       "      <td>1.000000</td>\n",
       "      <td>-122.330224</td>\n",
       "      <td>47.615369</td>\n",
       "      <td>106912.000000</td>\n",
       "      <td>123363.000000</td>\n",
       "      <td>123363.000000</td>\n",
       "      <td>29973.000000</td>\n",
       "      <td>1.000000</td>\n",
       "      <td>2.000000</td>\n",
       "      <td>0.000000</td>\n",
       "      <td>0.000000</td>\n",
       "      <td>2.000000</td>\n",
       "      <td>13.000000</td>\n",
       "      <td>8.023022e+06</td>\n",
       "      <td>0.000000</td>\n",
       "      <td>0.000000e+00</td>\n",
       "    </tr>\n",
       "    <tr>\n",
       "      <th>75%</th>\n",
       "      <td>2.000000</td>\n",
       "      <td>-122.311937</td>\n",
       "      <td>47.663664</td>\n",
       "      <td>162272.000000</td>\n",
       "      <td>203319.000000</td>\n",
       "      <td>203459.000000</td>\n",
       "      <td>33973.000000</td>\n",
       "      <td>2.000000</td>\n",
       "      <td>3.000000</td>\n",
       "      <td>0.000000</td>\n",
       "      <td>0.000000</td>\n",
       "      <td>2.000000</td>\n",
       "      <td>14.000000</td>\n",
       "      <td>1.015501e+07</td>\n",
       "      <td>0.000000</td>\n",
       "      <td>0.000000e+00</td>\n",
       "    </tr>\n",
       "    <tr>\n",
       "      <th>max</th>\n",
       "      <td>2.000000</td>\n",
       "      <td>-122.238949</td>\n",
       "      <td>47.734142</td>\n",
       "      <td>219547.000000</td>\n",
       "      <td>331454.000000</td>\n",
       "      <td>332954.000000</td>\n",
       "      <td>757580.000000</td>\n",
       "      <td>2.000000</td>\n",
       "      <td>81.000000</td>\n",
       "      <td>6.000000</td>\n",
       "      <td>2.000000</td>\n",
       "      <td>12.000000</td>\n",
       "      <td>69.000000</td>\n",
       "      <td>1.307202e+07</td>\n",
       "      <td>525241.000000</td>\n",
       "      <td>5.239700e+06</td>\n",
       "    </tr>\n",
       "  </tbody>\n",
       "</table>\n",
       "</div>"
      ],
      "text/plain": [
       "        SEVERITYCODE              X              Y       OBJECTID  \\\n",
       "count  194673.000000  189339.000000  189339.000000  194673.000000   \n",
       "mean        1.298901    -122.330518      47.619543  108479.364930   \n",
       "std         0.457778       0.029976       0.056157   62649.722558   \n",
       "min         1.000000    -122.419091      47.495573       1.000000   \n",
       "25%         1.000000    -122.348673      47.575956   54267.000000   \n",
       "50%         1.000000    -122.330224      47.615369  106912.000000   \n",
       "75%         2.000000    -122.311937      47.663664  162272.000000   \n",
       "max         2.000000    -122.238949      47.734142  219547.000000   \n",
       "\n",
       "              INCKEY      COLDETKEY         INTKEY  SEVERITYCODE.1  \\\n",
       "count  194673.000000  194673.000000   65070.000000   194673.000000   \n",
       "mean   141091.456350  141298.811381   37558.450576        1.298901   \n",
       "std     86634.402737   86986.542110   51745.990273        0.457778   \n",
       "min      1001.000000    1001.000000   23807.000000        1.000000   \n",
       "25%     70383.000000   70383.000000   28667.000000        1.000000   \n",
       "50%    123363.000000  123363.000000   29973.000000        1.000000   \n",
       "75%    203319.000000  203459.000000   33973.000000        2.000000   \n",
       "max    331454.000000  332954.000000  757580.000000        2.000000   \n",
       "\n",
       "         PERSONCOUNT       PEDCOUNT    PEDCYLCOUNT       VEHCOUNT  \\\n",
       "count  194673.000000  194673.000000  194673.000000  194673.000000   \n",
       "mean        2.444427       0.037139       0.028391       1.920780   \n",
       "std         1.345929       0.198150       0.167413       0.631047   \n",
       "min         0.000000       0.000000       0.000000       0.000000   \n",
       "25%         2.000000       0.000000       0.000000       2.000000   \n",
       "50%         2.000000       0.000000       0.000000       2.000000   \n",
       "75%         3.000000       0.000000       0.000000       2.000000   \n",
       "max        81.000000       6.000000       2.000000      12.000000   \n",
       "\n",
       "        SDOT_COLCODE    SDOTCOLNUM     SEGLANEKEY  CROSSWALKKEY  \n",
       "count  194673.000000  1.149360e+05  194673.000000  1.946730e+05  \n",
       "mean       13.867768  7.972521e+06     269.401114  9.782452e+03  \n",
       "std         6.868755  2.553533e+06    3315.776055  7.226926e+04  \n",
       "min         0.000000  1.007024e+06       0.000000  0.000000e+00  \n",
       "25%        11.000000  6.040015e+06       0.000000  0.000000e+00  \n",
       "50%        13.000000  8.023022e+06       0.000000  0.000000e+00  \n",
       "75%        14.000000  1.015501e+07       0.000000  0.000000e+00  \n",
       "max        69.000000  1.307202e+07  525241.000000  5.239700e+06  "
      ]
     },
     "execution_count": 6,
     "metadata": {},
     "output_type": "execute_result"
    }
   ],
   "source": [
    "df.describe()"
   ]
  },
  {
   "cell_type": "markdown",
   "metadata": {},
   "source": [
    "### 3. Methodology"
   ]
  },
  {
   "cell_type": "markdown",
   "metadata": {},
   "source": [
    "#### 3a. Missing values column wise elimination"
   ]
  },
  {
   "cell_type": "markdown",
   "metadata": {},
   "source": [
    "For the sake of simplicity and compatibility of this project the attributes containing more than 100 characters will be removed. These attributes would require some text reduction and mining procedures to get meaningful value out of them, which is out of the scope of this project. Furthermore, attributes made out of keys, ID's or codes will also be removed, except for the ADDRTYPE and ST_COLCODE columns. Additionally, columns that have more than 50% missing values are also removed. Lastly, columns that are not provided with a detailed explanation will also be removed to reduce any misunderstandings.\n",
    "\n"
   ]
  },
  {
   "cell_type": "markdown",
   "metadata": {},
   "source": [
    "#### 3b. Missing values row wise elimination"
   ]
  },
  {
   "cell_type": "markdown",
   "metadata": {},
   "source": [
    "This left the dataset with 14 columns. However there are still some missing values that need to be handled. Since the remaining missing values are so little in quantity the rows containing them will be eliminated. By doing so we lost 7166 entries, but also removed any bias that would be caused by imputation."
   ]
  },
  {
   "cell_type": "code",
   "execution_count": 7,
   "metadata": {},
   "outputs": [],
   "source": [
    "# Removing 24 attributes based on the description given in section 3a.\n",
    "df2=df.drop(columns=['OBJECTID','UNDERINFL','SEVERITYCODE.1','STATUS','REPORTNO', 'X','Y','INCKEY','COLDETKEY','INTKEY','LOCATION','EXCEPTRSNCODE','EXCEPTRSNDESC','SEVERITYDESC','JUNCTIONTYPE','SDOT_COLCODE','SDOT_COLDESC','SDOTCOLNUM','ST_COLDESC','SEGLANEKEY','CROSSWALKKEY','INATTENTIONIND','PEDROWNOTGRNT','SPEEDING'])\n",
    "# Row wise elimination of attributes with missing values\n",
    "df3=df2.dropna()"
   ]
  },
  {
   "cell_type": "code",
   "execution_count": 8,
   "metadata": {},
   "outputs": [
    {
     "name": "stdout",
     "output_type": "stream",
     "text": [
      "<class 'pandas.core.frame.DataFrame'>\n",
      "Int64Index: 187504 entries, 0 to 194672\n",
      "Data columns (total 14 columns):\n",
      " #   Column         Non-Null Count   Dtype \n",
      "---  ------         --------------   ----- \n",
      " 0   SEVERITYCODE   187504 non-null  int64 \n",
      " 1   ADDRTYPE       187504 non-null  object\n",
      " 2   COLLISIONTYPE  187504 non-null  object\n",
      " 3   PERSONCOUNT    187504 non-null  int64 \n",
      " 4   PEDCOUNT       187504 non-null  int64 \n",
      " 5   PEDCYLCOUNT    187504 non-null  int64 \n",
      " 6   VEHCOUNT       187504 non-null  int64 \n",
      " 7   INCDATE        187504 non-null  object\n",
      " 8   INCDTTM        187504 non-null  object\n",
      " 9   WEATHER        187504 non-null  object\n",
      " 10  ROADCOND       187504 non-null  object\n",
      " 11  LIGHTCOND      187504 non-null  object\n",
      " 12  ST_COLCODE     187504 non-null  object\n",
      " 13  HITPARKEDCAR   187504 non-null  object\n",
      "dtypes: int64(5), object(9)\n",
      "memory usage: 21.5+ MB\n"
     ]
    }
   ],
   "source": [
    "df3.info()"
   ]
  },
  {
   "cell_type": "code",
   "execution_count": 9,
   "metadata": {},
   "outputs": [
    {
     "data": {
      "text/plain": [
       "SEVERITYCODE     0\n",
       "ADDRTYPE         0\n",
       "COLLISIONTYPE    0\n",
       "PERSONCOUNT      0\n",
       "PEDCOUNT         0\n",
       "PEDCYLCOUNT      0\n",
       "VEHCOUNT         0\n",
       "INCDATE          0\n",
       "INCDTTM          0\n",
       "WEATHER          0\n",
       "ROADCOND         0\n",
       "LIGHTCOND        0\n",
       "ST_COLCODE       0\n",
       "HITPARKEDCAR     0\n",
       "dtype: int64"
      ]
     },
     "execution_count": 9,
     "metadata": {},
     "output_type": "execute_result"
    }
   ],
   "source": [
    "df3.isnull().sum()"
   ]
  },
  {
   "cell_type": "code",
   "execution_count": 10,
   "metadata": {},
   "outputs": [
    {
     "data": {
      "text/html": [
       "<div>\n",
       "<style scoped>\n",
       "    .dataframe tbody tr th:only-of-type {\n",
       "        vertical-align: middle;\n",
       "    }\n",
       "\n",
       "    .dataframe tbody tr th {\n",
       "        vertical-align: top;\n",
       "    }\n",
       "\n",
       "    .dataframe thead th {\n",
       "        text-align: right;\n",
       "    }\n",
       "</style>\n",
       "<table border=\"1\" class=\"dataframe\">\n",
       "  <thead>\n",
       "    <tr style=\"text-align: right;\">\n",
       "      <th></th>\n",
       "      <th>SEVERITYCODE</th>\n",
       "      <th>ADDRTYPE</th>\n",
       "      <th>COLLISIONTYPE</th>\n",
       "      <th>PERSONCOUNT</th>\n",
       "      <th>PEDCOUNT</th>\n",
       "      <th>PEDCYLCOUNT</th>\n",
       "      <th>VEHCOUNT</th>\n",
       "      <th>INCDATE</th>\n",
       "      <th>INCDTTM</th>\n",
       "      <th>WEATHER</th>\n",
       "      <th>ROADCOND</th>\n",
       "      <th>LIGHTCOND</th>\n",
       "      <th>ST_COLCODE</th>\n",
       "      <th>HITPARKEDCAR</th>\n",
       "    </tr>\n",
       "  </thead>\n",
       "  <tbody>\n",
       "    <tr>\n",
       "      <th>0</th>\n",
       "      <td>2</td>\n",
       "      <td>Intersection</td>\n",
       "      <td>Angles</td>\n",
       "      <td>2</td>\n",
       "      <td>0</td>\n",
       "      <td>0</td>\n",
       "      <td>2</td>\n",
       "      <td>2013/03/27 00:00:00+00</td>\n",
       "      <td>3/27/2013 2:54:00 PM</td>\n",
       "      <td>Overcast</td>\n",
       "      <td>Wet</td>\n",
       "      <td>Daylight</td>\n",
       "      <td>10</td>\n",
       "      <td>N</td>\n",
       "    </tr>\n",
       "    <tr>\n",
       "      <th>1</th>\n",
       "      <td>1</td>\n",
       "      <td>Block</td>\n",
       "      <td>Sideswipe</td>\n",
       "      <td>2</td>\n",
       "      <td>0</td>\n",
       "      <td>0</td>\n",
       "      <td>2</td>\n",
       "      <td>2006/12/20 00:00:00+00</td>\n",
       "      <td>12/20/2006 6:55:00 PM</td>\n",
       "      <td>Raining</td>\n",
       "      <td>Wet</td>\n",
       "      <td>Dark - Street Lights On</td>\n",
       "      <td>11</td>\n",
       "      <td>N</td>\n",
       "    </tr>\n",
       "    <tr>\n",
       "      <th>2</th>\n",
       "      <td>1</td>\n",
       "      <td>Block</td>\n",
       "      <td>Parked Car</td>\n",
       "      <td>4</td>\n",
       "      <td>0</td>\n",
       "      <td>0</td>\n",
       "      <td>3</td>\n",
       "      <td>2004/11/18 00:00:00+00</td>\n",
       "      <td>11/18/2004 10:20:00 AM</td>\n",
       "      <td>Overcast</td>\n",
       "      <td>Dry</td>\n",
       "      <td>Daylight</td>\n",
       "      <td>32</td>\n",
       "      <td>N</td>\n",
       "    </tr>\n",
       "    <tr>\n",
       "      <th>3</th>\n",
       "      <td>1</td>\n",
       "      <td>Block</td>\n",
       "      <td>Other</td>\n",
       "      <td>3</td>\n",
       "      <td>0</td>\n",
       "      <td>0</td>\n",
       "      <td>3</td>\n",
       "      <td>2013/03/29 00:00:00+00</td>\n",
       "      <td>3/29/2013 9:26:00 AM</td>\n",
       "      <td>Clear</td>\n",
       "      <td>Dry</td>\n",
       "      <td>Daylight</td>\n",
       "      <td>23</td>\n",
       "      <td>N</td>\n",
       "    </tr>\n",
       "    <tr>\n",
       "      <th>4</th>\n",
       "      <td>2</td>\n",
       "      <td>Intersection</td>\n",
       "      <td>Angles</td>\n",
       "      <td>2</td>\n",
       "      <td>0</td>\n",
       "      <td>0</td>\n",
       "      <td>2</td>\n",
       "      <td>2004/01/28 00:00:00+00</td>\n",
       "      <td>1/28/2004 8:04:00 AM</td>\n",
       "      <td>Raining</td>\n",
       "      <td>Wet</td>\n",
       "      <td>Daylight</td>\n",
       "      <td>10</td>\n",
       "      <td>N</td>\n",
       "    </tr>\n",
       "  </tbody>\n",
       "</table>\n",
       "</div>"
      ],
      "text/plain": [
       "   SEVERITYCODE      ADDRTYPE COLLISIONTYPE  PERSONCOUNT  PEDCOUNT  \\\n",
       "0             2  Intersection        Angles            2         0   \n",
       "1             1         Block     Sideswipe            2         0   \n",
       "2             1         Block    Parked Car            4         0   \n",
       "3             1         Block         Other            3         0   \n",
       "4             2  Intersection        Angles            2         0   \n",
       "\n",
       "   PEDCYLCOUNT  VEHCOUNT                 INCDATE                 INCDTTM  \\\n",
       "0            0         2  2013/03/27 00:00:00+00    3/27/2013 2:54:00 PM   \n",
       "1            0         2  2006/12/20 00:00:00+00   12/20/2006 6:55:00 PM   \n",
       "2            0         3  2004/11/18 00:00:00+00  11/18/2004 10:20:00 AM   \n",
       "3            0         3  2013/03/29 00:00:00+00    3/29/2013 9:26:00 AM   \n",
       "4            0         2  2004/01/28 00:00:00+00    1/28/2004 8:04:00 AM   \n",
       "\n",
       "    WEATHER ROADCOND                LIGHTCOND ST_COLCODE HITPARKEDCAR  \n",
       "0  Overcast      Wet                 Daylight         10            N  \n",
       "1   Raining      Wet  Dark - Street Lights On         11            N  \n",
       "2  Overcast      Dry                 Daylight         32            N  \n",
       "3     Clear      Dry                 Daylight         23            N  \n",
       "4   Raining      Wet                 Daylight         10            N  "
      ]
     },
     "execution_count": 10,
     "metadata": {},
     "output_type": "execute_result"
    }
   ],
   "source": [
    "df3.head()"
   ]
  },
  {
   "cell_type": "markdown",
   "metadata": {},
   "source": [
    "#### 3c. Encoding categorical values to numerical labels"
   ]
  },
  {
   "cell_type": "code",
   "execution_count": 11,
   "metadata": {},
   "outputs": [],
   "source": [
    "# Copy dataframe\n",
    "df4=df3[:]\n",
    "# Change datatype from object to category\n",
    "df4[\"ADDRTYPE\"] = df4[\"ADDRTYPE\"].astype('category')\n",
    "df4[\"COLLISIONTYPE\"] = df4[\"COLLISIONTYPE\"].astype('category')\n",
    "df4[\"WEATHER\"] = df4[\"WEATHER\"].astype('category')\n",
    "df4[\"ROADCOND\"] = df4[\"ROADCOND\"].astype('category')\n",
    "df4[\"LIGHTCOND\"] = df4[\"LIGHTCOND\"].astype('category')\n",
    "df4[\"ST_COLCODE\"] = df4[\"ST_COLCODE\"].astype('category')\n",
    "df4[\"HITPARKEDCAR\"] = df4[\"HITPARKEDCAR\"].astype('category')"
   ]
  },
  {
   "cell_type": "code",
   "execution_count": 12,
   "metadata": {},
   "outputs": [],
   "source": [
    "# Change categories to numerical values\n",
    "df4[\"ADDRTYPE\"] = df4[\"ADDRTYPE\"].cat.codes\n",
    "df4[\"COLLISIONTYPE\"] = df4[\"COLLISIONTYPE\"].cat.codes\n",
    "df4[\"WEATHER\"] = df4[\"WEATHER\"].cat.codes\n",
    "df4[\"ROADCOND\"] = df4[\"ROADCOND\"].cat.codes\n",
    "df4[\"LIGHTCOND\"] = df4[\"LIGHTCOND\"].cat.codes\n",
    "df4[\"ST_COLCODE\"] = df4[\"ST_COLCODE\"].cat.codes\n",
    "df4[\"HITPARKEDCAR\"] = df4[\"HITPARKEDCAR\"].cat.codes"
   ]
  },
  {
   "cell_type": "code",
   "execution_count": 13,
   "metadata": {},
   "outputs": [
    {
     "data": {
      "text/html": [
       "<div>\n",
       "<style scoped>\n",
       "    .dataframe tbody tr th:only-of-type {\n",
       "        vertical-align: middle;\n",
       "    }\n",
       "\n",
       "    .dataframe tbody tr th {\n",
       "        vertical-align: top;\n",
       "    }\n",
       "\n",
       "    .dataframe thead th {\n",
       "        text-align: right;\n",
       "    }\n",
       "</style>\n",
       "<table border=\"1\" class=\"dataframe\">\n",
       "  <thead>\n",
       "    <tr style=\"text-align: right;\">\n",
       "      <th></th>\n",
       "      <th>SEVERITYCODE</th>\n",
       "      <th>ADDRTYPE</th>\n",
       "      <th>COLLISIONTYPE</th>\n",
       "      <th>PERSONCOUNT</th>\n",
       "      <th>PEDCOUNT</th>\n",
       "      <th>PEDCYLCOUNT</th>\n",
       "      <th>VEHCOUNT</th>\n",
       "      <th>INCDATE</th>\n",
       "      <th>INCDTTM</th>\n",
       "      <th>WEATHER</th>\n",
       "      <th>ROADCOND</th>\n",
       "      <th>LIGHTCOND</th>\n",
       "      <th>ST_COLCODE</th>\n",
       "      <th>HITPARKEDCAR</th>\n",
       "    </tr>\n",
       "  </thead>\n",
       "  <tbody>\n",
       "    <tr>\n",
       "      <th>0</th>\n",
       "      <td>2</td>\n",
       "      <td>2</td>\n",
       "      <td>0</td>\n",
       "      <td>2</td>\n",
       "      <td>0</td>\n",
       "      <td>0</td>\n",
       "      <td>2</td>\n",
       "      <td>2013/03/27 00:00:00+00</td>\n",
       "      <td>3/27/2013 2:54:00 PM</td>\n",
       "      <td>4</td>\n",
       "      <td>8</td>\n",
       "      <td>5</td>\n",
       "      <td>2</td>\n",
       "      <td>0</td>\n",
       "    </tr>\n",
       "    <tr>\n",
       "      <th>1</th>\n",
       "      <td>1</td>\n",
       "      <td>1</td>\n",
       "      <td>9</td>\n",
       "      <td>2</td>\n",
       "      <td>0</td>\n",
       "      <td>0</td>\n",
       "      <td>2</td>\n",
       "      <td>2006/12/20 00:00:00+00</td>\n",
       "      <td>12/20/2006 6:55:00 PM</td>\n",
       "      <td>6</td>\n",
       "      <td>8</td>\n",
       "      <td>2</td>\n",
       "      <td>3</td>\n",
       "      <td>0</td>\n",
       "    </tr>\n",
       "    <tr>\n",
       "      <th>2</th>\n",
       "      <td>1</td>\n",
       "      <td>1</td>\n",
       "      <td>5</td>\n",
       "      <td>4</td>\n",
       "      <td>0</td>\n",
       "      <td>0</td>\n",
       "      <td>3</td>\n",
       "      <td>2004/11/18 00:00:00+00</td>\n",
       "      <td>11/18/2004 10:20:00 AM</td>\n",
       "      <td>4</td>\n",
       "      <td>0</td>\n",
       "      <td>5</td>\n",
       "      <td>26</td>\n",
       "      <td>0</td>\n",
       "    </tr>\n",
       "    <tr>\n",
       "      <th>3</th>\n",
       "      <td>1</td>\n",
       "      <td>1</td>\n",
       "      <td>4</td>\n",
       "      <td>3</td>\n",
       "      <td>0</td>\n",
       "      <td>0</td>\n",
       "      <td>3</td>\n",
       "      <td>2013/03/29 00:00:00+00</td>\n",
       "      <td>3/29/2013 9:26:00 AM</td>\n",
       "      <td>1</td>\n",
       "      <td>0</td>\n",
       "      <td>5</td>\n",
       "      <td>16</td>\n",
       "      <td>0</td>\n",
       "    </tr>\n",
       "    <tr>\n",
       "      <th>4</th>\n",
       "      <td>2</td>\n",
       "      <td>2</td>\n",
       "      <td>0</td>\n",
       "      <td>2</td>\n",
       "      <td>0</td>\n",
       "      <td>0</td>\n",
       "      <td>2</td>\n",
       "      <td>2004/01/28 00:00:00+00</td>\n",
       "      <td>1/28/2004 8:04:00 AM</td>\n",
       "      <td>6</td>\n",
       "      <td>8</td>\n",
       "      <td>5</td>\n",
       "      <td>2</td>\n",
       "      <td>0</td>\n",
       "    </tr>\n",
       "  </tbody>\n",
       "</table>\n",
       "</div>"
      ],
      "text/plain": [
       "   SEVERITYCODE  ADDRTYPE  COLLISIONTYPE  PERSONCOUNT  PEDCOUNT  PEDCYLCOUNT  \\\n",
       "0             2         2              0            2         0            0   \n",
       "1             1         1              9            2         0            0   \n",
       "2             1         1              5            4         0            0   \n",
       "3             1         1              4            3         0            0   \n",
       "4             2         2              0            2         0            0   \n",
       "\n",
       "   VEHCOUNT                 INCDATE                 INCDTTM  WEATHER  \\\n",
       "0         2  2013/03/27 00:00:00+00    3/27/2013 2:54:00 PM        4   \n",
       "1         2  2006/12/20 00:00:00+00   12/20/2006 6:55:00 PM        6   \n",
       "2         3  2004/11/18 00:00:00+00  11/18/2004 10:20:00 AM        4   \n",
       "3         3  2013/03/29 00:00:00+00    3/29/2013 9:26:00 AM        1   \n",
       "4         2  2004/01/28 00:00:00+00    1/28/2004 8:04:00 AM        6   \n",
       "\n",
       "   ROADCOND  LIGHTCOND  ST_COLCODE  HITPARKEDCAR  \n",
       "0         8          5           2             0  \n",
       "1         8          2           3             0  \n",
       "2         0          5          26             0  \n",
       "3         0          5          16             0  \n",
       "4         8          5           2             0  "
      ]
     },
     "execution_count": 13,
     "metadata": {},
     "output_type": "execute_result"
    }
   ],
   "source": [
    "df4.head()"
   ]
  },
  {
   "cell_type": "code",
   "execution_count": 14,
   "metadata": {},
   "outputs": [
    {
     "name": "stdout",
     "output_type": "stream",
     "text": [
      "<class 'pandas.core.frame.DataFrame'>\n",
      "Int64Index: 187504 entries, 0 to 194672\n",
      "Data columns (total 14 columns):\n",
      " #   Column         Non-Null Count   Dtype \n",
      "---  ------         --------------   ----- \n",
      " 0   SEVERITYCODE   187504 non-null  int64 \n",
      " 1   ADDRTYPE       187504 non-null  int8  \n",
      " 2   COLLISIONTYPE  187504 non-null  int8  \n",
      " 3   PERSONCOUNT    187504 non-null  int64 \n",
      " 4   PEDCOUNT       187504 non-null  int64 \n",
      " 5   PEDCYLCOUNT    187504 non-null  int64 \n",
      " 6   VEHCOUNT       187504 non-null  int64 \n",
      " 7   INCDATE        187504 non-null  object\n",
      " 8   INCDTTM        187504 non-null  object\n",
      " 9   WEATHER        187504 non-null  int8  \n",
      " 10  ROADCOND       187504 non-null  int8  \n",
      " 11  LIGHTCOND      187504 non-null  int8  \n",
      " 12  ST_COLCODE     187504 non-null  int8  \n",
      " 13  HITPARKEDCAR   187504 non-null  int8  \n",
      "dtypes: int64(5), int8(7), object(2)\n",
      "memory usage: 12.7+ MB\n"
     ]
    }
   ],
   "source": [
    "df4.info()"
   ]
  },
  {
   "cell_type": "markdown",
   "metadata": {},
   "source": [
    "#### 3d. Correlation matrix and corresponding heatmap"
   ]
  },
  {
   "cell_type": "code",
   "execution_count": 15,
   "metadata": {},
   "outputs": [
    {
     "data": {
      "text/html": [
       "<div>\n",
       "<style scoped>\n",
       "    .dataframe tbody tr th:only-of-type {\n",
       "        vertical-align: middle;\n",
       "    }\n",
       "\n",
       "    .dataframe tbody tr th {\n",
       "        vertical-align: top;\n",
       "    }\n",
       "\n",
       "    .dataframe thead th {\n",
       "        text-align: right;\n",
       "    }\n",
       "</style>\n",
       "<table border=\"1\" class=\"dataframe\">\n",
       "  <thead>\n",
       "    <tr style=\"text-align: right;\">\n",
       "      <th></th>\n",
       "      <th>SEVERITYCODE</th>\n",
       "      <th>ADDRTYPE</th>\n",
       "      <th>COLLISIONTYPE</th>\n",
       "      <th>PERSONCOUNT</th>\n",
       "      <th>PEDCOUNT</th>\n",
       "      <th>PEDCYLCOUNT</th>\n",
       "      <th>VEHCOUNT</th>\n",
       "      <th>WEATHER</th>\n",
       "      <th>ROADCOND</th>\n",
       "      <th>LIGHTCOND</th>\n",
       "      <th>ST_COLCODE</th>\n",
       "      <th>HITPARKEDCAR</th>\n",
       "    </tr>\n",
       "  </thead>\n",
       "  <tbody>\n",
       "    <tr>\n",
       "      <th>SEVERITYCODE</th>\n",
       "      <td>1.000000</td>\n",
       "      <td>0.199718</td>\n",
       "      <td>-0.128341</td>\n",
       "      <td>0.128368</td>\n",
       "      <td>0.247915</td>\n",
       "      <td>0.215361</td>\n",
       "      <td>-0.081014</td>\n",
       "      <td>-0.105479</td>\n",
       "      <td>-0.045903</td>\n",
       "      <td>-0.055773</td>\n",
       "      <td>-0.148922</td>\n",
       "      <td>-0.100308</td>\n",
       "    </tr>\n",
       "    <tr>\n",
       "      <th>ADDRTYPE</th>\n",
       "      <td>0.199718</td>\n",
       "      <td>1.000000</td>\n",
       "      <td>-0.473026</td>\n",
       "      <td>0.066913</td>\n",
       "      <td>0.143146</td>\n",
       "      <td>0.084652</td>\n",
       "      <td>-0.084917</td>\n",
       "      <td>-0.086782</td>\n",
       "      <td>-0.028255</td>\n",
       "      <td>-0.047774</td>\n",
       "      <td>-0.230558</td>\n",
       "      <td>-0.124149</td>\n",
       "    </tr>\n",
       "    <tr>\n",
       "      <th>COLLISIONTYPE</th>\n",
       "      <td>-0.128341</td>\n",
       "      <td>-0.473026</td>\n",
       "      <td>1.000000</td>\n",
       "      <td>0.014110</td>\n",
       "      <td>0.092992</td>\n",
       "      <td>-0.213844</td>\n",
       "      <td>0.105357</td>\n",
       "      <td>0.027525</td>\n",
       "      <td>-0.001363</td>\n",
       "      <td>0.030995</td>\n",
       "      <td>0.056175</td>\n",
       "      <td>0.035416</td>\n",
       "    </tr>\n",
       "    <tr>\n",
       "      <th>PERSONCOUNT</th>\n",
       "      <td>0.128368</td>\n",
       "      <td>0.066913</td>\n",
       "      <td>0.014110</td>\n",
       "      <td>1.000000</td>\n",
       "      <td>-0.026249</td>\n",
       "      <td>-0.041409</td>\n",
       "      <td>0.400479</td>\n",
       "      <td>-0.061690</td>\n",
       "      <td>-0.030057</td>\n",
       "      <td>-0.036942</td>\n",
       "      <td>-0.226652</td>\n",
       "      <td>-0.051616</td>\n",
       "    </tr>\n",
       "    <tr>\n",
       "      <th>PEDCOUNT</th>\n",
       "      <td>0.247915</td>\n",
       "      <td>0.143146</td>\n",
       "      <td>0.092992</td>\n",
       "      <td>-0.026249</td>\n",
       "      <td>1.000000</td>\n",
       "      <td>-0.018106</td>\n",
       "      <td>-0.316989</td>\n",
       "      <td>-0.011035</td>\n",
       "      <td>0.005950</td>\n",
       "      <td>-0.039330</td>\n",
       "      <td>-0.132112</td>\n",
       "      <td>-0.034985</td>\n",
       "    </tr>\n",
       "    <tr>\n",
       "      <th>PEDCYLCOUNT</th>\n",
       "      <td>0.215361</td>\n",
       "      <td>0.084652</td>\n",
       "      <td>-0.213844</td>\n",
       "      <td>-0.041409</td>\n",
       "      <td>-0.018106</td>\n",
       "      <td>1.000000</td>\n",
       "      <td>-0.306058</td>\n",
       "      <td>-0.053879</td>\n",
       "      <td>-0.050236</td>\n",
       "      <td>0.013396</td>\n",
       "      <td>0.237381</td>\n",
       "      <td>-0.029808</td>\n",
       "    </tr>\n",
       "    <tr>\n",
       "      <th>VEHCOUNT</th>\n",
       "      <td>-0.081014</td>\n",
       "      <td>-0.084917</td>\n",
       "      <td>0.105357</td>\n",
       "      <td>0.400479</td>\n",
       "      <td>-0.316989</td>\n",
       "      <td>-0.306058</td>\n",
       "      <td>1.000000</td>\n",
       "      <td>-0.009878</td>\n",
       "      <td>-0.016649</td>\n",
       "      <td>0.034604</td>\n",
       "      <td>-0.266461</td>\n",
       "      <td>0.069207</td>\n",
       "    </tr>\n",
       "    <tr>\n",
       "      <th>WEATHER</th>\n",
       "      <td>-0.105479</td>\n",
       "      <td>-0.086782</td>\n",
       "      <td>0.027525</td>\n",
       "      <td>-0.061690</td>\n",
       "      <td>-0.011035</td>\n",
       "      <td>-0.053879</td>\n",
       "      <td>-0.009878</td>\n",
       "      <td>1.000000</td>\n",
       "      <td>0.749440</td>\n",
       "      <td>0.201645</td>\n",
       "      <td>0.106486</td>\n",
       "      <td>0.057500</td>\n",
       "    </tr>\n",
       "    <tr>\n",
       "      <th>ROADCOND</th>\n",
       "      <td>-0.045903</td>\n",
       "      <td>-0.028255</td>\n",
       "      <td>-0.001363</td>\n",
       "      <td>-0.030057</td>\n",
       "      <td>0.005950</td>\n",
       "      <td>-0.050236</td>\n",
       "      <td>-0.016649</td>\n",
       "      <td>0.749440</td>\n",
       "      <td>1.000000</td>\n",
       "      <td>0.019298</td>\n",
       "      <td>0.041631</td>\n",
       "      <td>0.017946</td>\n",
       "    </tr>\n",
       "    <tr>\n",
       "      <th>LIGHTCOND</th>\n",
       "      <td>-0.055773</td>\n",
       "      <td>-0.047774</td>\n",
       "      <td>0.030995</td>\n",
       "      <td>-0.036942</td>\n",
       "      <td>-0.039330</td>\n",
       "      <td>0.013396</td>\n",
       "      <td>0.034604</td>\n",
       "      <td>0.201645</td>\n",
       "      <td>0.019298</td>\n",
       "      <td>1.000000</td>\n",
       "      <td>-0.014261</td>\n",
       "      <td>0.032848</td>\n",
       "    </tr>\n",
       "    <tr>\n",
       "      <th>ST_COLCODE</th>\n",
       "      <td>-0.148922</td>\n",
       "      <td>-0.230558</td>\n",
       "      <td>0.056175</td>\n",
       "      <td>-0.226652</td>\n",
       "      <td>-0.132112</td>\n",
       "      <td>0.237381</td>\n",
       "      <td>-0.266461</td>\n",
       "      <td>0.106486</td>\n",
       "      <td>0.041631</td>\n",
       "      <td>-0.014261</td>\n",
       "      <td>1.000000</td>\n",
       "      <td>0.156243</td>\n",
       "    </tr>\n",
       "    <tr>\n",
       "      <th>HITPARKEDCAR</th>\n",
       "      <td>-0.100308</td>\n",
       "      <td>-0.124149</td>\n",
       "      <td>0.035416</td>\n",
       "      <td>-0.051616</td>\n",
       "      <td>-0.034985</td>\n",
       "      <td>-0.029808</td>\n",
       "      <td>0.069207</td>\n",
       "      <td>0.057500</td>\n",
       "      <td>0.017946</td>\n",
       "      <td>0.032848</td>\n",
       "      <td>0.156243</td>\n",
       "      <td>1.000000</td>\n",
       "    </tr>\n",
       "  </tbody>\n",
       "</table>\n",
       "</div>"
      ],
      "text/plain": [
       "               SEVERITYCODE  ADDRTYPE  COLLISIONTYPE  PERSONCOUNT  PEDCOUNT  \\\n",
       "SEVERITYCODE       1.000000  0.199718      -0.128341     0.128368  0.247915   \n",
       "ADDRTYPE           0.199718  1.000000      -0.473026     0.066913  0.143146   \n",
       "COLLISIONTYPE     -0.128341 -0.473026       1.000000     0.014110  0.092992   \n",
       "PERSONCOUNT        0.128368  0.066913       0.014110     1.000000 -0.026249   \n",
       "PEDCOUNT           0.247915  0.143146       0.092992    -0.026249  1.000000   \n",
       "PEDCYLCOUNT        0.215361  0.084652      -0.213844    -0.041409 -0.018106   \n",
       "VEHCOUNT          -0.081014 -0.084917       0.105357     0.400479 -0.316989   \n",
       "WEATHER           -0.105479 -0.086782       0.027525    -0.061690 -0.011035   \n",
       "ROADCOND          -0.045903 -0.028255      -0.001363    -0.030057  0.005950   \n",
       "LIGHTCOND         -0.055773 -0.047774       0.030995    -0.036942 -0.039330   \n",
       "ST_COLCODE        -0.148922 -0.230558       0.056175    -0.226652 -0.132112   \n",
       "HITPARKEDCAR      -0.100308 -0.124149       0.035416    -0.051616 -0.034985   \n",
       "\n",
       "               PEDCYLCOUNT  VEHCOUNT   WEATHER  ROADCOND  LIGHTCOND  \\\n",
       "SEVERITYCODE      0.215361 -0.081014 -0.105479 -0.045903  -0.055773   \n",
       "ADDRTYPE          0.084652 -0.084917 -0.086782 -0.028255  -0.047774   \n",
       "COLLISIONTYPE    -0.213844  0.105357  0.027525 -0.001363   0.030995   \n",
       "PERSONCOUNT      -0.041409  0.400479 -0.061690 -0.030057  -0.036942   \n",
       "PEDCOUNT         -0.018106 -0.316989 -0.011035  0.005950  -0.039330   \n",
       "PEDCYLCOUNT       1.000000 -0.306058 -0.053879 -0.050236   0.013396   \n",
       "VEHCOUNT         -0.306058  1.000000 -0.009878 -0.016649   0.034604   \n",
       "WEATHER          -0.053879 -0.009878  1.000000  0.749440   0.201645   \n",
       "ROADCOND         -0.050236 -0.016649  0.749440  1.000000   0.019298   \n",
       "LIGHTCOND         0.013396  0.034604  0.201645  0.019298   1.000000   \n",
       "ST_COLCODE        0.237381 -0.266461  0.106486  0.041631  -0.014261   \n",
       "HITPARKEDCAR     -0.029808  0.069207  0.057500  0.017946   0.032848   \n",
       "\n",
       "               ST_COLCODE  HITPARKEDCAR  \n",
       "SEVERITYCODE    -0.148922     -0.100308  \n",
       "ADDRTYPE        -0.230558     -0.124149  \n",
       "COLLISIONTYPE    0.056175      0.035416  \n",
       "PERSONCOUNT     -0.226652     -0.051616  \n",
       "PEDCOUNT        -0.132112     -0.034985  \n",
       "PEDCYLCOUNT      0.237381     -0.029808  \n",
       "VEHCOUNT        -0.266461      0.069207  \n",
       "WEATHER          0.106486      0.057500  \n",
       "ROADCOND         0.041631      0.017946  \n",
       "LIGHTCOND       -0.014261      0.032848  \n",
       "ST_COLCODE       1.000000      0.156243  \n",
       "HITPARKEDCAR     0.156243      1.000000  "
      ]
     },
     "execution_count": 15,
     "metadata": {},
     "output_type": "execute_result"
    }
   ],
   "source": [
    "# creating correlation matrix\n",
    "df4.corr()"
   ]
  },
  {
   "cell_type": "code",
   "execution_count": 16,
   "metadata": {},
   "outputs": [
    {
     "data": {
      "image/png": "[encoded data removed]",
      "text/plain": [
       "<Figure size 432x288 with 2 Axes>"
      ]
     },
     "metadata": {
      "needs_background": "light"
     },
     "output_type": "display_data"
    }
   ],
   "source": [
    "# creating correlation heatmap\n",
    "corrMatrix = df4.corr()\n",
    "sn.heatmap(corrMatrix, annot=True)\n",
    "plt.show()"
   ]
  },
  {
   "cell_type": "markdown",
   "metadata": {},
   "source": [
    "#### 3e. Exploratory Data Analysis (EDA)"
   ]
  },
  {
   "cell_type": "markdown",
   "metadata": {},
   "source": [
    "To get an idea of how the data is distributed some EDA will be conducted. The visualizations show that most accidents happened with parked cars in the daylight with clear weather and dry roads. This goes against initial intuitions of expecting more accidents in bad lighting, weather and road conditions. Furthermore, drugs and alcohol usage are also not a prevalent cause for accidents."
   ]
  },
  {
   "cell_type": "code",
   "execution_count": 17,
   "metadata": {},
   "outputs": [
    {
     "data": {
      "image/png": "[encoded data removed]",
      "text/plain": [
       "<Figure size 432x288 with 1 Axes>"
      ]
     },
     "metadata": {
      "needs_background": "light"
     },
     "output_type": "display_data"
    }
   ],
   "source": [
    "df3['COLLISIONTYPE'].value_counts().plot(kind='bar')\n",
    "plt.title('Collision type distribution')\n",
    "plt.xticks(rotation=45)\n",
    "plt.show()"
   ]
  },
  {
   "cell_type": "code",
   "execution_count": 18,
   "metadata": {},
   "outputs": [
    {
     "data": {
      "image/png": "[encoded data removed]",
      "text/plain": [
       "<Figure size 432x288 with 1 Axes>"
      ]
     },
     "metadata": {
      "needs_background": "light"
     },
     "output_type": "display_data"
    }
   ],
   "source": [
    "df3['ADDRTYPE'].value_counts().plot(kind='bar')\n",
    "plt.title('Accidents per address type')\n",
    "plt.xticks(rotation=360)\n",
    "plt.show()"
   ]
  },
  {
   "cell_type": "code",
   "execution_count": 19,
   "metadata": {},
   "outputs": [
    {
     "data": {
      "image/png": "[encoded data removed]",
      "text/plain": [
       "<Figure size 432x288 with 1 Axes>"
      ]
     },
     "metadata": {
      "needs_background": "light"
     },
     "output_type": "display_data"
    }
   ],
   "source": [
    "df3['WEATHER'].value_counts().plot(kind='bar')\n",
    "plt.title('Accidents per weather condition')\n",
    "plt.show()"
   ]
  },
  {
   "cell_type": "code",
   "execution_count": 20,
   "metadata": {},
   "outputs": [
    {
     "data": {
      "image/png": "[encoded data removed]",
      "text/plain": [
       "<Figure size 432x288 with 1 Axes>"
      ]
     },
     "metadata": {
      "needs_background": "light"
     },
     "output_type": "display_data"
    }
   ],
   "source": [
    "df3['ROADCOND'].value_counts().plot(kind='bar')\n",
    "plt.title('Accidents per road condition')\n",
    "plt.show()"
   ]
  },
  {
   "cell_type": "code",
   "execution_count": 21,
   "metadata": {},
   "outputs": [
    {
     "data": {
      "image/png": "[encoded data removed]",
      "text/plain": [
       "<Figure size 432x288 with 1 Axes>"
      ]
     },
     "metadata": {
      "needs_background": "light"
     },
     "output_type": "display_data"
    }
   ],
   "source": [
    "df3['LIGHTCOND'].value_counts().plot(kind='bar')\n",
    "plt.title('Accidents per light condition')\n",
    "plt.show()"
   ]
  },
  {
   "cell_type": "markdown",
   "metadata": {},
   "source": [
    "### 4. Model building"
   ]
  },
  {
   "cell_type": "markdown",
   "metadata": {},
   "source": [
    "#### 4.1 Feature selection and splitting train/test sets"
   ]
  },
  {
   "cell_type": "code",
   "execution_count": 22,
   "metadata": {},
   "outputs": [
    {
     "data": {
      "text/html": [
       "<div>\n",
       "<style scoped>\n",
       "    .dataframe tbody tr th:only-of-type {\n",
       "        vertical-align: middle;\n",
       "    }\n",
       "\n",
       "    .dataframe tbody tr th {\n",
       "        vertical-align: top;\n",
       "    }\n",
       "\n",
       "    .dataframe thead th {\n",
       "        text-align: right;\n",
       "    }\n",
       "</style>\n",
       "<table border=\"1\" class=\"dataframe\">\n",
       "  <thead>\n",
       "    <tr style=\"text-align: right;\">\n",
       "      <th></th>\n",
       "      <th>ADDRTYPE</th>\n",
       "      <th>COLLISIONTYPE</th>\n",
       "      <th>PERSONCOUNT</th>\n",
       "      <th>PEDCOUNT</th>\n",
       "      <th>PEDCYLCOUNT</th>\n",
       "      <th>VEHCOUNT</th>\n",
       "      <th>WEATHER</th>\n",
       "      <th>ROADCOND</th>\n",
       "      <th>LIGHTCOND</th>\n",
       "      <th>ST_COLCODE</th>\n",
       "      <th>HITPARKEDCAR</th>\n",
       "    </tr>\n",
       "  </thead>\n",
       "  <tbody>\n",
       "    <tr>\n",
       "      <th>0</th>\n",
       "      <td>2</td>\n",
       "      <td>0</td>\n",
       "      <td>2</td>\n",
       "      <td>0</td>\n",
       "      <td>0</td>\n",
       "      <td>2</td>\n",
       "      <td>4</td>\n",
       "      <td>8</td>\n",
       "      <td>5</td>\n",
       "      <td>2</td>\n",
       "      <td>0</td>\n",
       "    </tr>\n",
       "    <tr>\n",
       "      <th>1</th>\n",
       "      <td>1</td>\n",
       "      <td>9</td>\n",
       "      <td>2</td>\n",
       "      <td>0</td>\n",
       "      <td>0</td>\n",
       "      <td>2</td>\n",
       "      <td>6</td>\n",
       "      <td>8</td>\n",
       "      <td>2</td>\n",
       "      <td>3</td>\n",
       "      <td>0</td>\n",
       "    </tr>\n",
       "    <tr>\n",
       "      <th>2</th>\n",
       "      <td>1</td>\n",
       "      <td>5</td>\n",
       "      <td>4</td>\n",
       "      <td>0</td>\n",
       "      <td>0</td>\n",
       "      <td>3</td>\n",
       "      <td>4</td>\n",
       "      <td>0</td>\n",
       "      <td>5</td>\n",
       "      <td>26</td>\n",
       "      <td>0</td>\n",
       "    </tr>\n",
       "    <tr>\n",
       "      <th>3</th>\n",
       "      <td>1</td>\n",
       "      <td>4</td>\n",
       "      <td>3</td>\n",
       "      <td>0</td>\n",
       "      <td>0</td>\n",
       "      <td>3</td>\n",
       "      <td>1</td>\n",
       "      <td>0</td>\n",
       "      <td>5</td>\n",
       "      <td>16</td>\n",
       "      <td>0</td>\n",
       "    </tr>\n",
       "    <tr>\n",
       "      <th>4</th>\n",
       "      <td>2</td>\n",
       "      <td>0</td>\n",
       "      <td>2</td>\n",
       "      <td>0</td>\n",
       "      <td>0</td>\n",
       "      <td>2</td>\n",
       "      <td>6</td>\n",
       "      <td>8</td>\n",
       "      <td>5</td>\n",
       "      <td>2</td>\n",
       "      <td>0</td>\n",
       "    </tr>\n",
       "  </tbody>\n",
       "</table>\n",
       "</div>"
      ],
      "text/plain": [
       "   ADDRTYPE  COLLISIONTYPE  PERSONCOUNT  PEDCOUNT  PEDCYLCOUNT  VEHCOUNT  \\\n",
       "0         2              0            2         0            0         2   \n",
       "1         1              9            2         0            0         2   \n",
       "2         1              5            4         0            0         3   \n",
       "3         1              4            3         0            0         3   \n",
       "4         2              0            2         0            0         2   \n",
       "\n",
       "   WEATHER  ROADCOND  LIGHTCOND  ST_COLCODE  HITPARKEDCAR  \n",
       "0        4         8          5           2             0  \n",
       "1        6         8          2           3             0  \n",
       "2        4         0          5          26             0  \n",
       "3        1         0          5          16             0  \n",
       "4        6         8          5           2             0  "
      ]
     },
     "execution_count": 22,
     "metadata": {},
     "output_type": "execute_result"
    }
   ],
   "source": [
    "# Dropping label column and date attributes, date attributes might be revisited\n",
    "# in a later iteration of this project.\n",
    "X= df4.drop(['SEVERITYCODE','INCDATE','INCDTTM'], axis=1)\n",
    "X.head()       \n"
   ]
  },
  {
   "cell_type": "code",
   "execution_count": 23,
   "metadata": {},
   "outputs": [
    {
     "data": {
      "text/plain": [
       "array([2, 1, 1, ..., 2, 2, 1], dtype=int64)"
      ]
     },
     "execution_count": 23,
     "metadata": {},
     "output_type": "execute_result"
    }
   ],
   "source": [
    "Y= df4['SEVERITYCODE'].values\n",
    "Y"
   ]
  },
  {
   "cell_type": "code",
   "execution_count": 24,
   "metadata": {},
   "outputs": [
    {
     "name": "stdout",
     "output_type": "stream",
     "text": [
      "Train set shape: (150003, 11) (150003,)\n"
     ]
    }
   ],
   "source": [
    "# Splitting test set(20%) and train set(80%)\n",
    "X_train, X_test, y_train, y_test = train_test_split(X, Y, test_size=0.2, random_state=5)\n",
    "print('Train set shape:', X_train.shape, y_train.shape)"
   ]
  },
  {
   "cell_type": "markdown",
   "metadata": {},
   "source": [
    "#### 4.2 KNN-model"
   ]
  },
  {
   "cell_type": "code",
   "execution_count": 25,
   "metadata": {},
   "outputs": [
    {
     "data": {
      "text/plain": [
       "KNeighborsClassifier()"
      ]
     },
     "execution_count": 25,
     "metadata": {},
     "output_type": "execute_result"
    }
   ],
   "source": [
    "from sklearn.neighbors import KNeighborsClassifier\n",
    "KNN_model= KNeighborsClassifier(n_neighbors=5).fit(X_train,y_train)\n",
    "KNN_model"
   ]
  },
  {
   "cell_type": "code",
   "execution_count": 26,
   "metadata": {},
   "outputs": [
    {
     "data": {
      "text/plain": [
       "array([2, 1, 1, 1, 1], dtype=int64)"
      ]
     },
     "execution_count": 26,
     "metadata": {},
     "output_type": "execute_result"
    }
   ],
   "source": [
    "yhat_knn = KNN_model.predict(X_test)\n",
    "yhat_knn[:5]"
   ]
  },
  {
   "cell_type": "code",
   "execution_count": 27,
   "metadata": {},
   "outputs": [],
   "source": [
    "# Optional parameter tuning, took too long to execute on my device\n",
    "#neighbors = list(range(1,11))\n",
    "#cv_scores = [ ]\n",
    "#for K in neighbors:\n",
    "#    knn = KNeighborsClassifier(n_neighbors = K)\n",
    "#    scores = cross_val_score(knn,X_train,y_train,cv = 10,scoring =\n",
    "#    \"accuracy\")\n",
    "#    cv_scores.append(scores.mean())\n",
    "#    \n",
    "#cv_scores\n",
    "#plt.plot(neighbors, cv_scores)\n",
    "#plt.xlabel=('N Neighbors')\n",
    "#plt.ylabel=('Accuracy')"
   ]
  },
  {
   "cell_type": "markdown",
   "metadata": {},
   "source": [
    "#### 4.2 Decision tree"
   ]
  },
  {
   "cell_type": "code",
   "execution_count": 63,
   "metadata": {},
   "outputs": [
    {
     "data": {
      "text/plain": [
       "DecisionTreeClassifier(criterion='entropy', max_depth=5)"
      ]
     },
     "execution_count": 63,
     "metadata": {},
     "output_type": "execute_result"
    }
   ],
   "source": [
    "from sklearn.tree import DecisionTreeClassifier\n",
    "Tree_model = DecisionTreeClassifier(criterion='entropy', max_depth=5)\n",
    "Tree_model.fit(X_train,y_train)\n",
    "Tree_model"
   ]
  },
  {
   "cell_type": "code",
   "execution_count": 29,
   "metadata": {},
   "outputs": [
    {
     "data": {
      "text/plain": [
       "array([1, 1, 1, 1, 1], dtype=int64)"
      ]
     },
     "execution_count": 29,
     "metadata": {},
     "output_type": "execute_result"
    }
   ],
   "source": [
    "yhat_tree=Tree_model.predict(X_test)\n",
    "yhat_tree[:5]"
   ]
  },
  {
   "cell_type": "code",
   "execution_count": 30,
   "metadata": {},
   "outputs": [
    {
     "data": {
      "image/png": "[encoded data removed]",
      "text/plain": [
       "<Figure size 432x288 with 1 Axes>"
      ]
     },
     "metadata": {
      "needs_background": "light"
     },
     "output_type": "display_data"
    }
   ],
   "source": [
    "#parameter tuning, picking k=5 to avoid overfitting\n",
    "from sklearn.model_selection import cross_val_score\n",
    "import matplotlib.pyplot as plt\n",
    "max_depths = list(range(1,10))\n",
    "cv_scores_tree = [ ]\n",
    "for K in max_depths:\n",
    "    tree = DecisionTreeClassifier(criterion='entropy',max_depth = K)\n",
    "    scores = cross_val_score(tree,X_train,y_train,cv = 10,scoring =\n",
    "    \"accuracy\")\n",
    "    cv_scores_tree.append(scores.mean())\n",
    "\n",
    "fig=plt.plot(max_depths, cv_scores_tree)"
   ]
  },
  {
   "cell_type": "markdown",
   "metadata": {},
   "source": [
    "#### 4.3 Logistic regression"
   ]
  },
  {
   "cell_type": "code",
   "execution_count": 35,
   "metadata": {},
   "outputs": [
    {
     "data": {
      "text/plain": [
       "LogisticRegression(C=0.01, max_iter=1000)"
      ]
     },
     "execution_count": 35,
     "metadata": {},
     "output_type": "execute_result"
    }
   ],
   "source": [
    "from sklearn.linear_model import LogisticRegression\n",
    "LR_model = LogisticRegression(C=0.01,max_iter=1000).fit(X_train,y_train)\n",
    "LR_model"
   ]
  },
  {
   "cell_type": "code",
   "execution_count": 32,
   "metadata": {},
   "outputs": [
    {
     "data": {
      "text/plain": [
       "array([1, 1, 1, 1, 1], dtype=int64)"
      ]
     },
     "execution_count": 32,
     "metadata": {},
     "output_type": "execute_result"
    }
   ],
   "source": [
    "yhat_lr=LR_model.predict(X_test)\n",
    "yhat_lr[:5]"
   ]
  },
  {
   "cell_type": "code",
   "execution_count": 44,
   "metadata": {},
   "outputs": [
    {
     "data": {
      "text/plain": [
       "<BarContainer object of 5 artists>"
      ]
     },
     "execution_count": 44,
     "metadata": {},
     "output_type": "execute_result"
    },
    {
     "data": {
      "image/png": "[encoded data removed]",
      "text/plain": [
       "<Figure size 432x288 with 1 Axes>"
      ]
     },
     "metadata": {
      "needs_background": "light"
     },
     "output_type": "display_data"
    }
   ],
   "source": [
    "# Parameter tuning, no difference found in solver methods\n",
    "from sklearn.model_selection import cross_val_score\n",
    "import matplotlib.pyplot as plt\n",
    "solvers = ['newton-cg','lbfgs','liblinear','sag','saga']\n",
    "cv_scores_lr = [ ]\n",
    "for K in solvers:\n",
    "    lr = LogisticRegression(C=0.01,solver=K,max_iter=1000)\n",
    "    scores = cross_val_score(lr,X_train,y_train,cv = 10,scoring =\n",
    "    \"accuracy\")\n",
    "    cv_scores_lr.append(scores.mean())\n",
    "plt.bar(solvers, cv_scores_lr)"
   ]
  },
  {
   "cell_type": "code",
   "execution_count": 60,
   "metadata": {},
   "outputs": [
    {
     "name": "stdout",
     "output_type": "stream",
     "text": [
      "KNN model Jaccard index:0.69\n",
      "KNN model F1-score:0.72\n"
     ]
    }
   ],
   "source": [
    "knn_predictions= KNN_model.predict(X_test)\n",
    "print (\"KNN model Jaccard index:%.2f\" % jaccard_score(y_test,knn_predictions))\n",
    "print (\"KNN model F1-score:%.2f\" % f1_score(y_test, knn_predictions, average='weighted'))"
   ]
  },
  {
   "cell_type": "code",
   "execution_count": 64,
   "metadata": {},
   "outputs": [
    {
     "name": "stdout",
     "output_type": "stream",
     "text": [
      "Decision tree model Jaccard index:0.73\n",
      "Decision tree model F1-score:0.71\n"
     ]
    }
   ],
   "source": [
    "Tree_predictions= Tree_model.predict(X_test)\n",
    "print (\"Decision tree model Jaccard index:%.2f\" % jaccard_score(y_test,Tree_predictions))\n",
    "print (\"Decision tree model F1-score:%.2f\" % f1_score(y_test, Tree_predictions, average='weighted'))"
   ]
  },
  {
   "cell_type": "code",
   "execution_count": 65,
   "metadata": {},
   "outputs": [
    {
     "name": "stdout",
     "output_type": "stream",
     "text": [
      "Logistic regression model Jaccard index:0.73\n",
      "Logistic regression model F1-score:0.70\n",
      "Logistic regression model LogLoss:0.53\n"
     ]
    }
   ],
   "source": [
    "LR_predictions= LR_model.predict(X_test)\n",
    "LR_prob_predictions=LR_model.predict_proba(X_test)\n",
    "print (\"Logistic regression model Jaccard index:%.2f\" % jaccard_score(y_test, LR_predictions))\n",
    "print (\"Logistic regression model F1-score:%.2f\" % f1_score(y_test, LR_predictions, average='weighted'))\n",
    "print('Logistic regression model LogLoss:%.2f'% log_loss(y_test,LR_prob_predictions))"
   ]
  },
  {
   "cell_type": "markdown",
   "metadata": {},
   "source": [
    "### 5. Results"
   ]
  },
  {
   "cell_type": "markdown",
   "metadata": {},
   "source": [
    "#### 5.1 Model accuracy results"
   ]
  },
  {
   "cell_type": "markdown",
   "metadata": {},
   "source": [
    "| Algorithm          | Jaccard | F1-score | LogLoss |\n",
    "|--------------------|---------|----------|---------|\n",
    "| KNN                | 0.69    | 0.72     | NA      |\n",
    "| Decision Tree      | 0.73    | 0.71     | NA      |\n",
    "| LogisticRegression | 0.73    | 0.70     | 0.53    |"
   ]
  },
  {
   "cell_type": "markdown",
   "metadata": {},
   "source": [
    "The used models show great accuracies ranging from 69% to 73%. They can be further improved upon with several techniques, which will be described in the discussion section."
   ]
  },
  {
   "cell_type": "markdown",
   "metadata": {},
   "source": [
    "#### 5.2 Exploratory data analysis results"
   ]
  },
  {
   "cell_type": "markdown",
   "metadata": {},
   "source": [
    "Alongside the accurate models, this project also provided insightful graphs in the EDA section. With the barplots we can see that most accidents happen in the daylight, with good conditions like clear weather and dry roads. Additionally, the visualizations show that almost all accidents happen in blocks and intersections. The most popular collision types are 'parked cars', 'angles' and 'rear ended'."
   ]
  },
  {
   "cell_type": "markdown",
   "metadata": {},
   "source": [
    "### 6. Discussion\n"
   ]
  },
  {
   "cell_type": "markdown",
   "metadata": {},
   "source": [
    "#### 6.1 Point of improvements"
   ]
  },
  {
   "cell_type": "markdown",
   "metadata": {},
   "source": [
    "There are several ways to improve or add to the used machine learning models. Some of these might implemented in a later iteration of this project.\n",
    "\n",
    "1. Parameter tuning with a wider window (for example, k: 1-50 instead of k: 1-10), parameter tuning on multiple parameters.\n",
    "2. Using more algorithms to see which perform better.\n",
    "3. Ensembling the best performing algorithms\n",
    "4. Imputing some missing values \n",
    "5. Picking the right features by comparing models trained on different attributes.\n",
    "6. Using the datetime attributes to find out when the most (severe) accidents occur.\n"
   ]
  },
  {
   "cell_type": "markdown",
   "metadata": {},
   "source": [
    "#### 6.2 Recomendations"
   ]
  },
  {
   "cell_type": "markdown",
   "metadata": {},
   "source": [
    "The data shows us that most accidents happen in the best, or in the least expected conditions. This information might be useful to spread, such that drivers will also focus when there are no visible threaths like bad lighting and wet roads. Furthermore, most accidents happen in blocks and intersections, so these places deserve to have more attention in terms of road safety when compared to alleys. Aditionally, parked cars are also a prevalent issue that drivers might underestimate due to it being a stationairy object. <br>\n",
    "\n",
    "Lastly, it seems that machine learning models have a decent amount of accuracy at predicting the severity of accidents. So the government part that is responsible for traffic might take a look at developing such models. This will hopefully contribute to a better understanding of traffic accidents and their severity, which can lead to saver traffic."
   ]
  },
  {
   "cell_type": "markdown",
   "metadata": {},
   "source": [
    "### 7. Conclusion"
   ]
  },
  {
   "cell_type": "markdown",
   "metadata": {},
   "source": [
    "This was an educational and fun project to conduct, where I learned more about data cleaning, exploration and machine learning. There are still some point of improvements that might be added to the project for better results. The dataset and project description has been provided by IBM through the Coursera platform and is part of the [IBM Professional Data science certificate.](https://www.coursera.org/professional-certificates/ibm-data-science)"
   ]
  }
 ],
 "metadata": {
  "kernelspec": {
   "display_name": "Python 3",
   "language": "python",
   "name": "python3"
  },
  "language_info": {
   "codemirror_mode": {
    "name": "ipython",
    "version": 3
   },
   "file_extension": ".py",
   "mimetype": "text/x-python",
   "name": "python",
   "nbconvert_exporter": "python",
   "pygments_lexer": "ipython3",
   "version": "3.7.6"
  }
 },
 "nbformat": 4,
 "nbformat_minor": 4
}
