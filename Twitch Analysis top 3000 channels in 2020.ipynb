{
 "cells": [
  {
   "cell_type": "markdown",
   "metadata": {},
   "source": [
    "# Twitch Data analysis - Top 3000 most watched twitch channels in 2020\n",
    "\n",
    "Author: Orhan Taskopru <br>\n",
    "Date created: 25-01-2021 <br>\n",
    "Data source: https://sullygnome.com/channels/2020/watched <br>\n",
    "\n",
    "\n",
    "\n",
    "Support the creator of the twitch analysis platform: <br>\n",
    "https://www.patreon.com/sullygnome\n",
    "<a id='top'></a>"
   ]
  },
  {
   "cell_type": "markdown",
   "metadata": {},
   "source": [
    "## 1. Forming the dataframe"
   ]
  },
  {
   "cell_type": "markdown",
   "metadata": {},
   "source": [
    "### 1a. Importing the required packages"
   ]
  },
  {
   "cell_type": "code",
   "execution_count": 47,
   "metadata": {},
   "outputs": [],
   "source": [
    "import pandas as pd\n",
    "import matplotlib\n",
    "import seaborn as sns\n",
    "from matplotlib.ticker import FuncFormatter\n",
    "import matplotlib.pyplot as plt\n",
    "import numpy as np"
   ]
  },
  {
   "cell_type": "markdown",
   "metadata": {},
   "source": [
    "### 1b. Read in te csv files"
   ]
  },
  {
   "cell_type": "code",
   "execution_count": 48,
   "metadata": {},
   "outputs": [],
   "source": [
    "# 1-10\n",
    "df1= pd.read_csv(\"Most watched Twitch streamers, 2020 - SullyGnome 1.csv\")\n",
    "df2= pd.read_csv(\"Most watched Twitch streamers, 2020 - SullyGnome 2.csv\")\n",
    "df3= pd.read_csv(\"Most watched Twitch streamers, 2020 - SullyGnome 3.csv\")\n",
    "df4= pd.read_csv(\"Most watched Twitch streamers, 2020 - SullyGnome 4.csv\")\n",
    "df5= pd.read_csv(\"Most watched Twitch streamers, 2020 - SullyGnome 5.csv\")\n",
    "df6= pd.read_csv(\"Most watched Twitch streamers, 2020 - SullyGnome 6.csv\")\n",
    "df7= pd.read_csv(\"Most watched Twitch streamers, 2020 - SullyGnome 7.csv\")\n",
    "df8= pd.read_csv(\"Most watched Twitch streamers, 2020 - SullyGnome 8.csv\")\n",
    "df9= pd.read_csv(\"Most watched Twitch streamers, 2020 - SullyGnome 9.csv\")\n",
    "df10= pd.read_csv(\"Most watched Twitch streamers, 2020 - SullyGnome 10.csv\")\n",
    "# 11-20\n",
    "df11= pd.read_csv(\"Most watched Twitch streamers, 2020 - SullyGnome 11.csv\")\n",
    "df12= pd.read_csv(\"Most watched Twitch streamers, 2020 - SullyGnome 12.csv\")\n",
    "df13= pd.read_csv(\"Most watched Twitch streamers, 2020 - SullyGnome 13.csv\")\n",
    "df14= pd.read_csv(\"Most watched Twitch streamers, 2020 - SullyGnome 14.csv\")\n",
    "df15= pd.read_csv(\"Most watched Twitch streamers, 2020 - SullyGnome 15.csv\")\n",
    "df16= pd.read_csv(\"Most watched Twitch streamers, 2020 - SullyGnome 16.csv\")\n",
    "df17= pd.read_csv(\"Most watched Twitch streamers, 2020 - SullyGnome 17.csv\")\n",
    "df18= pd.read_csv(\"Most watched Twitch streamers, 2020 - SullyGnome 18.csv\")\n",
    "df19= pd.read_csv(\"Most watched Twitch streamers, 2020 - SullyGnome 19.csv\")\n",
    "df20= pd.read_csv(\"Most watched Twitch streamers, 2020 - SullyGnome 20.csv\")\n",
    "# 21-30\n",
    "df21= pd.read_csv(\"Most watched Twitch streamers, 2020 - SullyGnome 21.csv\")\n",
    "df22= pd.read_csv(\"Most watched Twitch streamers, 2020 - SullyGnome 22.csv\")\n",
    "df23= pd.read_csv(\"Most watched Twitch streamers, 2020 - SullyGnome 23.csv\")\n",
    "df24= pd.read_csv(\"Most watched Twitch streamers, 2020 - SullyGnome 24.csv\")\n",
    "df25= pd.read_csv(\"Most watched Twitch streamers, 2020 - SullyGnome 25.csv\")\n",
    "df26= pd.read_csv(\"Most watched Twitch streamers, 2020 - SullyGnome 26.csv\")\n",
    "df27= pd.read_csv(\"Most watched Twitch streamers, 2020 - SullyGnome 27.csv\")\n",
    "df28= pd.read_csv(\"Most watched Twitch streamers, 2020 - SullyGnome 28.csv\")\n",
    "df29= pd.read_csv(\"Most watched Twitch streamers, 2020 - SullyGnome 29.csv\")\n",
    "df30= pd.read_csv(\"Most watched Twitch streamers, 2020 - SullyGnome 30.csv\")"
   ]
  },
  {
   "cell_type": "markdown",
   "metadata": {},
   "source": [
    "### 1c. Concatenate all the retrieved dataframes into 1"
   ]
  },
  {
   "cell_type": "code",
   "execution_count": 62,
   "metadata": {},
   "outputs": [
    {
     "data": {
      "text/html": [
       "<div>\n",
       "<style scoped>\n",
       "    .dataframe tbody tr th:only-of-type {\n",
       "        vertical-align: middle;\n",
       "    }\n",
       "\n",
       "    .dataframe tbody tr th {\n",
       "        vertical-align: top;\n",
       "    }\n",
       "\n",
       "    .dataframe thead th {\n",
       "        text-align: right;\n",
       "    }\n",
       "</style>\n",
       "<table border=\"1\" class=\"dataframe\">\n",
       "  <thead>\n",
       "    <tr style=\"text-align: right;\">\n",
       "      <th></th>\n",
       "      <th>Unnamed: 0</th>\n",
       "      <th>Unnamed: 1</th>\n",
       "      <th>Channel</th>\n",
       "      <th>Watch time</th>\n",
       "      <th>Stream time</th>\n",
       "      <th>Peak viewers</th>\n",
       "      <th>Average viewers</th>\n",
       "      <th>Followers</th>\n",
       "      <th>Followers gained</th>\n",
       "      <th>Views gained</th>\n",
       "      <th>Partnered</th>\n",
       "      <th>Mature</th>\n",
       "      <th>Language</th>\n",
       "      <th>Unnamed: 13</th>\n",
       "    </tr>\n",
       "  </thead>\n",
       "  <tbody>\n",
       "    <tr>\n",
       "      <th>0</th>\n",
       "      <td>https://static-cdn.jtvnw.net/jtv_user_pictures...</td>\n",
       "      <td>1</td>\n",
       "      <td>xQcOW</td>\n",
       "      <td>8847081540</td>\n",
       "      <td>215010</td>\n",
       "      <td>222720</td>\n",
       "      <td>41146</td>\n",
       "      <td>7491936</td>\n",
       "      <td>5364951</td>\n",
       "      <td>132751155</td>\n",
       "      <td>True</td>\n",
       "      <td>False</td>\n",
       "      <td>English</td>\n",
       "      <td>xQcOW</td>\n",
       "    </tr>\n",
       "    <tr>\n",
       "      <th>1</th>\n",
       "      <td>https://static-cdn.jtvnw.net/jtv_user_pictures...</td>\n",
       "      <td>2</td>\n",
       "      <td>Gaules</td>\n",
       "      <td>7720563330</td>\n",
       "      <td>517155</td>\n",
       "      <td>387315</td>\n",
       "      <td>14928</td>\n",
       "      <td>2406348</td>\n",
       "      <td>1416066</td>\n",
       "      <td>136956383</td>\n",
       "      <td>True</td>\n",
       "      <td>True</td>\n",
       "      <td>Portuguese</td>\n",
       "      <td>Gaules</td>\n",
       "    </tr>\n",
       "    <tr>\n",
       "      <th>2</th>\n",
       "      <td>https://static-cdn.jtvnw.net/jtv_user_pictures...</td>\n",
       "      <td>3</td>\n",
       "      <td>summit1g</td>\n",
       "      <td>6505033950</td>\n",
       "      <td>221550</td>\n",
       "      <td>310998</td>\n",
       "      <td>29361</td>\n",
       "      <td>5773448</td>\n",
       "      <td>1696810</td>\n",
       "      <td>94561929</td>\n",
       "      <td>True</td>\n",
       "      <td>False</td>\n",
       "      <td>English</td>\n",
       "      <td>summit1g</td>\n",
       "    </tr>\n",
       "    <tr>\n",
       "      <th>3</th>\n",
       "      <td>https://static-cdn.jtvnw.net/jtv_user_pictures...</td>\n",
       "      <td>4</td>\n",
       "      <td>ESL_CSGO</td>\n",
       "      <td>4786942590</td>\n",
       "      <td>518580</td>\n",
       "      <td>300575</td>\n",
       "      <td>9230</td>\n",
       "      <td>4329294</td>\n",
       "      <td>892718</td>\n",
       "      <td>128514894</td>\n",
       "      <td>True</td>\n",
       "      <td>False</td>\n",
       "      <td>English</td>\n",
       "      <td>ESL_CSGO</td>\n",
       "    </tr>\n",
       "    <tr>\n",
       "      <th>4</th>\n",
       "      <td>https://static-cdn.jtvnw.net/jtv_user_pictures...</td>\n",
       "      <td>5</td>\n",
       "      <td>NICKMERCS</td>\n",
       "      <td>4406970885</td>\n",
       "      <td>127065</td>\n",
       "      <td>163241</td>\n",
       "      <td>34682</td>\n",
       "      <td>4981557</td>\n",
       "      <td>1691981</td>\n",
       "      <td>54622518</td>\n",
       "      <td>True</td>\n",
       "      <td>False</td>\n",
       "      <td>English</td>\n",
       "      <td>NICKMERCS</td>\n",
       "    </tr>\n",
       "  </tbody>\n",
       "</table>\n",
       "</div>"
      ],
      "text/plain": [
       "                                          Unnamed: 0  Unnamed: 1    Channel  \\\n",
       "0  https://static-cdn.jtvnw.net/jtv_user_pictures...           1      xQcOW   \n",
       "1  https://static-cdn.jtvnw.net/jtv_user_pictures...           2     Gaules   \n",
       "2  https://static-cdn.jtvnw.net/jtv_user_pictures...           3   summit1g   \n",
       "3  https://static-cdn.jtvnw.net/jtv_user_pictures...           4   ESL_CSGO   \n",
       "4  https://static-cdn.jtvnw.net/jtv_user_pictures...           5  NICKMERCS   \n",
       "\n",
       "   Watch time  Stream time  Peak viewers  Average viewers  Followers  \\\n",
       "0  8847081540       215010        222720            41146    7491936   \n",
       "1  7720563330       517155        387315            14928    2406348   \n",
       "2  6505033950       221550        310998            29361    5773448   \n",
       "3  4786942590       518580        300575             9230    4329294   \n",
       "4  4406970885       127065        163241            34682    4981557   \n",
       "\n",
       "   Followers gained  Views gained  Partnered  Mature    Language Unnamed: 13  \n",
       "0           5364951     132751155       True   False     English       xQcOW  \n",
       "1           1416066     136956383       True    True  Portuguese      Gaules  \n",
       "2           1696810      94561929       True   False     English    summit1g  \n",
       "3            892718     128514894       True   False     English    ESL_CSGO  \n",
       "4           1691981      54622518       True   False     English   NICKMERCS  "
      ]
     },
     "execution_count": 62,
     "metadata": {},
     "output_type": "execute_result"
    }
   ],
   "source": [
    "Dataframes=[df1,df2,df3,df4,df5,df6,df7,df8,df9,df10,df11,df12,df13,df14,df15,df16,df17,df18,df19,df20,df21,df22,df23,df24,df25,df26,df27,df28,df29,df30]\n",
    "df=pd.concat(Dataframes)\n",
    "df.head()"
   ]
  },
  {
   "cell_type": "markdown",
   "metadata": {},
   "source": [
    "### 1d. Drop the unnecessary columns and save the result to a csv file"
   ]
  },
  {
   "cell_type": "code",
   "execution_count": 63,
   "metadata": {},
   "outputs": [],
   "source": [
    "df.drop(['Unnamed: 0', 'Unnamed: 1','Unnamed: 13'], axis=1, inplace=True)\n",
    "df.to_csv(r'C:\\Users\\Orhan\\Downloads\\Porto\\Most watched Twitch streamers-2020.csv')"
   ]
  },
  {
   "cell_type": "code",
   "execution_count": 64,
   "metadata": {},
   "outputs": [
    {
     "data": {
      "text/html": [
       "<div>\n",
       "<style scoped>\n",
       "    .dataframe tbody tr th:only-of-type {\n",
       "        vertical-align: middle;\n",
       "    }\n",
       "\n",
       "    .dataframe tbody tr th {\n",
       "        vertical-align: top;\n",
       "    }\n",
       "\n",
       "    .dataframe thead th {\n",
       "        text-align: right;\n",
       "    }\n",
       "</style>\n",
       "<table border=\"1\" class=\"dataframe\">\n",
       "  <thead>\n",
       "    <tr style=\"text-align: right;\">\n",
       "      <th></th>\n",
       "      <th>Channel</th>\n",
       "      <th>Watch time</th>\n",
       "      <th>Stream time</th>\n",
       "      <th>Peak viewers</th>\n",
       "      <th>Average viewers</th>\n",
       "      <th>Followers</th>\n",
       "      <th>Followers gained</th>\n",
       "      <th>Views gained</th>\n",
       "      <th>Partnered</th>\n",
       "      <th>Mature</th>\n",
       "      <th>Language</th>\n",
       "    </tr>\n",
       "  </thead>\n",
       "  <tbody>\n",
       "    <tr>\n",
       "      <th>0</th>\n",
       "      <td>xQcOW</td>\n",
       "      <td>8847081540</td>\n",
       "      <td>215010</td>\n",
       "      <td>222720</td>\n",
       "      <td>41146</td>\n",
       "      <td>7491936</td>\n",
       "      <td>5364951</td>\n",
       "      <td>132751155</td>\n",
       "      <td>True</td>\n",
       "      <td>False</td>\n",
       "      <td>English</td>\n",
       "    </tr>\n",
       "    <tr>\n",
       "      <th>1</th>\n",
       "      <td>Gaules</td>\n",
       "      <td>7720563330</td>\n",
       "      <td>517155</td>\n",
       "      <td>387315</td>\n",
       "      <td>14928</td>\n",
       "      <td>2406348</td>\n",
       "      <td>1416066</td>\n",
       "      <td>136956383</td>\n",
       "      <td>True</td>\n",
       "      <td>True</td>\n",
       "      <td>Portuguese</td>\n",
       "    </tr>\n",
       "    <tr>\n",
       "      <th>2</th>\n",
       "      <td>summit1g</td>\n",
       "      <td>6505033950</td>\n",
       "      <td>221550</td>\n",
       "      <td>310998</td>\n",
       "      <td>29361</td>\n",
       "      <td>5773448</td>\n",
       "      <td>1696810</td>\n",
       "      <td>94561929</td>\n",
       "      <td>True</td>\n",
       "      <td>False</td>\n",
       "      <td>English</td>\n",
       "    </tr>\n",
       "    <tr>\n",
       "      <th>3</th>\n",
       "      <td>ESL_CSGO</td>\n",
       "      <td>4786942590</td>\n",
       "      <td>518580</td>\n",
       "      <td>300575</td>\n",
       "      <td>9230</td>\n",
       "      <td>4329294</td>\n",
       "      <td>892718</td>\n",
       "      <td>128514894</td>\n",
       "      <td>True</td>\n",
       "      <td>False</td>\n",
       "      <td>English</td>\n",
       "    </tr>\n",
       "    <tr>\n",
       "      <th>4</th>\n",
       "      <td>NICKMERCS</td>\n",
       "      <td>4406970885</td>\n",
       "      <td>127065</td>\n",
       "      <td>163241</td>\n",
       "      <td>34682</td>\n",
       "      <td>4981557</td>\n",
       "      <td>1691981</td>\n",
       "      <td>54622518</td>\n",
       "      <td>True</td>\n",
       "      <td>False</td>\n",
       "      <td>English</td>\n",
       "    </tr>\n",
       "  </tbody>\n",
       "</table>\n",
       "</div>"
      ],
      "text/plain": [
       "     Channel  Watch time  Stream time  Peak viewers  Average viewers  \\\n",
       "0      xQcOW  8847081540       215010        222720            41146   \n",
       "1     Gaules  7720563330       517155        387315            14928   \n",
       "2   summit1g  6505033950       221550        310998            29361   \n",
       "3   ESL_CSGO  4786942590       518580        300575             9230   \n",
       "4  NICKMERCS  4406970885       127065        163241            34682   \n",
       "\n",
       "   Followers  Followers gained  Views gained  Partnered  Mature    Language  \n",
       "0    7491936           5364951     132751155       True   False     English  \n",
       "1    2406348           1416066     136956383       True    True  Portuguese  \n",
       "2    5773448           1696810      94561929       True   False     English  \n",
       "3    4329294            892718     128514894       True   False     English  \n",
       "4    4981557           1691981      54622518       True   False     English  "
      ]
     },
     "execution_count": 64,
     "metadata": {},
     "output_type": "execute_result"
    }
   ],
   "source": [
    "df.head()"
   ]
  },
  {
   "cell_type": "markdown",
   "metadata": {},
   "source": [
    "## 2 Exploratory data analysis"
   ]
  },
  {
   "cell_type": "markdown",
   "metadata": {},
   "source": [
    "### 2a. Dataframe description \n",
    "<a id='4'></a>"
   ]
  },
  {
   "cell_type": "code",
   "execution_count": 65,
   "metadata": {},
   "outputs": [
    {
     "data": {
      "text/html": [
       "<div>\n",
       "<style scoped>\n",
       "    .dataframe tbody tr th:only-of-type {\n",
       "        vertical-align: middle;\n",
       "    }\n",
       "\n",
       "    .dataframe tbody tr th {\n",
       "        vertical-align: top;\n",
       "    }\n",
       "\n",
       "    .dataframe thead th {\n",
       "        text-align: right;\n",
       "    }\n",
       "</style>\n",
       "<table border=\"1\" class=\"dataframe\">\n",
       "  <thead>\n",
       "    <tr style=\"text-align: right;\">\n",
       "      <th></th>\n",
       "      <th>Watch time</th>\n",
       "      <th>Stream time</th>\n",
       "      <th>Peak viewers</th>\n",
       "      <th>Average viewers</th>\n",
       "      <th>Followers</th>\n",
       "      <th>Followers gained</th>\n",
       "      <th>Views gained</th>\n",
       "    </tr>\n",
       "  </thead>\n",
       "  <tbody>\n",
       "    <tr>\n",
       "      <th>count</th>\n",
       "      <td>3.000000e+03</td>\n",
       "      <td>3000.000000</td>\n",
       "      <td>3.000000e+03</td>\n",
       "      <td>3000.000000</td>\n",
       "      <td>3.000000e+03</td>\n",
       "      <td>3.000000e+03</td>\n",
       "      <td>3.000000e+03</td>\n",
       "    </tr>\n",
       "    <tr>\n",
       "      <th>mean</th>\n",
       "      <td>2.218344e+08</td>\n",
       "      <td>106918.805000</td>\n",
       "      <td>2.256100e+04</td>\n",
       "      <td>2958.502000</td>\n",
       "      <td>3.721360e+05</td>\n",
       "      <td>1.621785e+05</td>\n",
       "      <td>6.765231e+06</td>\n",
       "    </tr>\n",
       "    <tr>\n",
       "      <th>std</th>\n",
       "      <td>4.444101e+08</td>\n",
       "      <td>79356.330635</td>\n",
       "      <td>4.766869e+04</td>\n",
       "      <td>6088.558948</td>\n",
       "      <td>7.283210e+05</td>\n",
       "      <td>3.477038e+05</td>\n",
       "      <td>1.731760e+07</td>\n",
       "    </tr>\n",
       "    <tr>\n",
       "      <th>min</th>\n",
       "      <td>4.380940e+07</td>\n",
       "      <td>570.000000</td>\n",
       "      <td>2.950000e+02</td>\n",
       "      <td>90.000000</td>\n",
       "      <td>1.171000e+03</td>\n",
       "      <td>-3.785400e+04</td>\n",
       "      <td>2.418400e+04</td>\n",
       "    </tr>\n",
       "    <tr>\n",
       "      <th>25%</th>\n",
       "      <td>6.111260e+07</td>\n",
       "      <td>59025.000000</td>\n",
       "      <td>4.713750e+03</td>\n",
       "      <td>691.000000</td>\n",
       "      <td>8.653300e+04</td>\n",
       "      <td>2.404275e+04</td>\n",
       "      <td>1.721671e+06</td>\n",
       "    </tr>\n",
       "    <tr>\n",
       "      <th>50%</th>\n",
       "      <td>9.690195e+07</td>\n",
       "      <td>95707.500000</td>\n",
       "      <td>9.519500e+03</td>\n",
       "      <td>1287.500000</td>\n",
       "      <td>1.808815e+05</td>\n",
       "      <td>6.212800e+04</td>\n",
       "      <td>3.247381e+06</td>\n",
       "    </tr>\n",
       "    <tr>\n",
       "      <th>75%</th>\n",
       "      <td>2.041319e+08</td>\n",
       "      <td>133608.750000</td>\n",
       "      <td>2.114800e+04</td>\n",
       "      <td>2738.500000</td>\n",
       "      <td>3.748155e+05</td>\n",
       "      <td>1.600750e+05</td>\n",
       "      <td>6.418004e+06</td>\n",
       "    </tr>\n",
       "    <tr>\n",
       "      <th>max</th>\n",
       "      <td>8.847082e+09</td>\n",
       "      <td>524535.000000</td>\n",
       "      <td>1.016962e+06</td>\n",
       "      <td>172479.000000</td>\n",
       "      <td>1.664829e+07</td>\n",
       "      <td>5.364951e+06</td>\n",
       "      <td>7.202919e+08</td>\n",
       "    </tr>\n",
       "  </tbody>\n",
       "</table>\n",
       "</div>"
      ],
      "text/plain": [
       "         Watch time    Stream time  Peak viewers  Average viewers  \\\n",
       "count  3.000000e+03    3000.000000  3.000000e+03      3000.000000   \n",
       "mean   2.218344e+08  106918.805000  2.256100e+04      2958.502000   \n",
       "std    4.444101e+08   79356.330635  4.766869e+04      6088.558948   \n",
       "min    4.380940e+07     570.000000  2.950000e+02        90.000000   \n",
       "25%    6.111260e+07   59025.000000  4.713750e+03       691.000000   \n",
       "50%    9.690195e+07   95707.500000  9.519500e+03      1287.500000   \n",
       "75%    2.041319e+08  133608.750000  2.114800e+04      2738.500000   \n",
       "max    8.847082e+09  524535.000000  1.016962e+06    172479.000000   \n",
       "\n",
       "          Followers  Followers gained  Views gained  \n",
       "count  3.000000e+03      3.000000e+03  3.000000e+03  \n",
       "mean   3.721360e+05      1.621785e+05  6.765231e+06  \n",
       "std    7.283210e+05      3.477038e+05  1.731760e+07  \n",
       "min    1.171000e+03     -3.785400e+04  2.418400e+04  \n",
       "25%    8.653300e+04      2.404275e+04  1.721671e+06  \n",
       "50%    1.808815e+05      6.212800e+04  3.247381e+06  \n",
       "75%    3.748155e+05      1.600750e+05  6.418004e+06  \n",
       "max    1.664829e+07      5.364951e+06  7.202919e+08  "
      ]
     },
     "execution_count": 65,
     "metadata": {},
     "output_type": "execute_result"
    }
   ],
   "source": [
    "df.describe()"
   ]
  },
  {
   "cell_type": "code",
   "execution_count": 66,
   "metadata": {},
   "outputs": [
    {
     "name": "stdout",
     "output_type": "stream",
     "text": [
      "<class 'pandas.core.frame.DataFrame'>\n",
      "Int64Index: 3000 entries, 0 to 99\n",
      "Data columns (total 11 columns):\n",
      " #   Column            Non-Null Count  Dtype \n",
      "---  ------            --------------  ----- \n",
      " 0   Channel           3000 non-null   object\n",
      " 1   Watch time        3000 non-null   int64 \n",
      " 2   Stream time       3000 non-null   int64 \n",
      " 3   Peak viewers      3000 non-null   int64 \n",
      " 4   Average viewers   3000 non-null   int64 \n",
      " 5   Followers         3000 non-null   int64 \n",
      " 6   Followers gained  3000 non-null   int64 \n",
      " 7   Views gained      3000 non-null   int64 \n",
      " 8   Partnered         3000 non-null   bool  \n",
      " 9   Mature            3000 non-null   bool  \n",
      " 10  Language          3000 non-null   object\n",
      "dtypes: bool(2), int64(7), object(2)\n",
      "memory usage: 240.2+ KB\n"
     ]
    }
   ],
   "source": [
    "df.info()"
   ]
  },
  {
   "cell_type": "markdown",
   "metadata": {},
   "source": [
    "### 2b. Language, Partnership and Maturity analysis\n"
   ]
  },
  {
   "cell_type": "code",
   "execution_count": 68,
   "metadata": {},
   "outputs": [
    {
     "data": {
      "text/html": [
       "<div>\n",
       "<style scoped>\n",
       "    .dataframe tbody tr th:only-of-type {\n",
       "        vertical-align: middle;\n",
       "    }\n",
       "\n",
       "    .dataframe tbody tr th {\n",
       "        vertical-align: top;\n",
       "    }\n",
       "\n",
       "    .dataframe thead th {\n",
       "        text-align: right;\n",
       "    }\n",
       "</style>\n",
       "<table border=\"1\" class=\"dataframe\">\n",
       "  <thead>\n",
       "    <tr style=\"text-align: right;\">\n",
       "      <th></th>\n",
       "      <th>Watch time</th>\n",
       "      <th>Stream time</th>\n",
       "      <th>Peak viewers</th>\n",
       "      <th>Average viewers</th>\n",
       "      <th>Followers</th>\n",
       "      <th>Followers gained</th>\n",
       "      <th>Views gained</th>\n",
       "      <th>Partnered</th>\n",
       "      <th>Mature</th>\n",
       "    </tr>\n",
       "    <tr>\n",
       "      <th>Language</th>\n",
       "      <th></th>\n",
       "      <th></th>\n",
       "      <th></th>\n",
       "      <th></th>\n",
       "      <th></th>\n",
       "      <th></th>\n",
       "      <th></th>\n",
       "      <th></th>\n",
       "      <th></th>\n",
       "    </tr>\n",
       "  </thead>\n",
       "  <tbody>\n",
       "    <tr>\n",
       "      <th>English</th>\n",
       "      <td>2.512234e+08</td>\n",
       "      <td>111318.219895</td>\n",
       "      <td>27276.082274</td>\n",
       "      <td>3469.731488</td>\n",
       "      <td>462508.180254</td>\n",
       "      <td>172558.186986</td>\n",
       "      <td>7.206078e+06</td>\n",
       "      <td>0.949140</td>\n",
       "      <td>0.290202</td>\n",
       "    </tr>\n",
       "    <tr>\n",
       "      <th>Portuguese</th>\n",
       "      <td>2.422367e+08</td>\n",
       "      <td>132880.000000</td>\n",
       "      <td>21508.833333</td>\n",
       "      <td>2442.209524</td>\n",
       "      <td>367570.547619</td>\n",
       "      <td>203848.209524</td>\n",
       "      <td>6.366646e+06</td>\n",
       "      <td>0.957143</td>\n",
       "      <td>0.328571</td>\n",
       "    </tr>\n",
       "    <tr>\n",
       "      <th>Slovak</th>\n",
       "      <td>2.368400e+08</td>\n",
       "      <td>132922.500000</td>\n",
       "      <td>8238.500000</td>\n",
       "      <td>1710.000000</td>\n",
       "      <td>231892.500000</td>\n",
       "      <td>53523.000000</td>\n",
       "      <td>6.516963e+06</td>\n",
       "      <td>1.000000</td>\n",
       "      <td>0.500000</td>\n",
       "    </tr>\n",
       "    <tr>\n",
       "      <th>Spanish</th>\n",
       "      <td>2.201337e+08</td>\n",
       "      <td>80148.419118</td>\n",
       "      <td>30198.841912</td>\n",
       "      <td>3550.169118</td>\n",
       "      <td>525794.172794</td>\n",
       "      <td>369211.783088</td>\n",
       "      <td>6.745779e+06</td>\n",
       "      <td>0.952206</td>\n",
       "      <td>0.224265</td>\n",
       "    </tr>\n",
       "    <tr>\n",
       "      <th>Korean</th>\n",
       "      <td>2.076696e+08</td>\n",
       "      <td>103282.696335</td>\n",
       "      <td>14419.492147</td>\n",
       "      <td>2516.565445</td>\n",
       "      <td>195393.073298</td>\n",
       "      <td>65661.031414</td>\n",
       "      <td>6.410463e+06</td>\n",
       "      <td>0.947644</td>\n",
       "      <td>0.047120</td>\n",
       "    </tr>\n",
       "  </tbody>\n",
       "</table>\n",
       "</div>"
      ],
      "text/plain": [
       "              Watch time    Stream time  Peak viewers  Average viewers  \\\n",
       "Language                                                                 \n",
       "English     2.512234e+08  111318.219895  27276.082274      3469.731488   \n",
       "Portuguese  2.422367e+08  132880.000000  21508.833333      2442.209524   \n",
       "Slovak      2.368400e+08  132922.500000   8238.500000      1710.000000   \n",
       "Spanish     2.201337e+08   80148.419118  30198.841912      3550.169118   \n",
       "Korean      2.076696e+08  103282.696335  14419.492147      2516.565445   \n",
       "\n",
       "                Followers  Followers gained  Views gained  Partnered    Mature  \n",
       "Language                                                                        \n",
       "English     462508.180254     172558.186986  7.206078e+06   0.949140  0.290202  \n",
       "Portuguese  367570.547619     203848.209524  6.366646e+06   0.957143  0.328571  \n",
       "Slovak      231892.500000      53523.000000  6.516963e+06   1.000000  0.500000  \n",
       "Spanish     525794.172794     369211.783088  6.745779e+06   0.952206  0.224265  \n",
       "Korean      195393.073298      65661.031414  6.410463e+06   0.947644  0.047120  "
      ]
     },
     "execution_count": 68,
     "metadata": {},
     "output_type": "execute_result"
    }
   ],
   "source": [
    "df_language_mean=df.groupby(['Language']).mean()\n",
    "df_language_mean=df_language_mean.sort_values(by='Watch time', ascending=False)\n",
    "df_language_mean.head()"
   ]
  },
  {
   "cell_type": "code",
   "execution_count": 138,
   "metadata": {},
   "outputs": [
    {
     "data": {
      "text/html": [
       "<div>\n",
       "<style scoped>\n",
       "    .dataframe tbody tr th:only-of-type {\n",
       "        vertical-align: middle;\n",
       "    }\n",
       "\n",
       "    .dataframe tbody tr th {\n",
       "        vertical-align: top;\n",
       "    }\n",
       "\n",
       "    .dataframe thead th {\n",
       "        text-align: right;\n",
       "    }\n",
       "</style>\n",
       "<table border=\"1\" class=\"dataframe\">\n",
       "  <thead>\n",
       "    <tr style=\"text-align: right;\">\n",
       "      <th></th>\n",
       "      <th>Watch time</th>\n",
       "      <th>Stream time</th>\n",
       "      <th>Peak viewers</th>\n",
       "      <th>Average viewers</th>\n",
       "      <th>Followers</th>\n",
       "      <th>Followers gained</th>\n",
       "      <th>Views gained</th>\n",
       "      <th>Partnered</th>\n",
       "      <th>Mature</th>\n",
       "    </tr>\n",
       "    <tr>\n",
       "      <th>Language</th>\n",
       "      <th></th>\n",
       "      <th></th>\n",
       "      <th></th>\n",
       "      <th></th>\n",
       "      <th></th>\n",
       "      <th></th>\n",
       "      <th></th>\n",
       "      <th></th>\n",
       "      <th></th>\n",
       "    </tr>\n",
       "  </thead>\n",
       "  <tbody>\n",
       "    <tr>\n",
       "      <th>English</th>\n",
       "      <td>335885633400</td>\n",
       "      <td>148832460</td>\n",
       "      <td>36468122</td>\n",
       "      <td>4639031</td>\n",
       "      <td>618373437</td>\n",
       "      <td>230710296</td>\n",
       "      <td>9634526279</td>\n",
       "      <td>1269</td>\n",
       "      <td>388</td>\n",
       "    </tr>\n",
       "    <tr>\n",
       "      <th>Spanish</th>\n",
       "      <td>59876376120</td>\n",
       "      <td>21800370</td>\n",
       "      <td>8214085</td>\n",
       "      <td>965646</td>\n",
       "      <td>143016015</td>\n",
       "      <td>100425605</td>\n",
       "      <td>1834851918</td>\n",
       "      <td>259</td>\n",
       "      <td>61</td>\n",
       "    </tr>\n",
       "    <tr>\n",
       "      <th>Portuguese</th>\n",
       "      <td>50869699335</td>\n",
       "      <td>27904800</td>\n",
       "      <td>4516855</td>\n",
       "      <td>512864</td>\n",
       "      <td>77189815</td>\n",
       "      <td>42808124</td>\n",
       "      <td>1336995653</td>\n",
       "      <td>201</td>\n",
       "      <td>69</td>\n",
       "    </tr>\n",
       "    <tr>\n",
       "      <th>Russian</th>\n",
       "      <td>43667961765</td>\n",
       "      <td>22581825</td>\n",
       "      <td>4218302</td>\n",
       "      <td>587218</td>\n",
       "      <td>49135584</td>\n",
       "      <td>22290782</td>\n",
       "      <td>2181166990</td>\n",
       "      <td>202</td>\n",
       "      <td>42</td>\n",
       "    </tr>\n",
       "    <tr>\n",
       "      <th>Korean</th>\n",
       "      <td>39664900785</td>\n",
       "      <td>19726995</td>\n",
       "      <td>2754123</td>\n",
       "      <td>480664</td>\n",
       "      <td>37320077</td>\n",
       "      <td>12541257</td>\n",
       "      <td>1224398433</td>\n",
       "      <td>181</td>\n",
       "      <td>9</td>\n",
       "    </tr>\n",
       "  </tbody>\n",
       "</table>\n",
       "</div>"
      ],
      "text/plain": [
       "              Watch time  Stream time  Peak viewers  Average viewers  \\\n",
       "Language                                                               \n",
       "English     335885633400    148832460      36468122          4639031   \n",
       "Spanish      59876376120     21800370       8214085           965646   \n",
       "Portuguese   50869699335     27904800       4516855           512864   \n",
       "Russian      43667961765     22581825       4218302           587218   \n",
       "Korean       39664900785     19726995       2754123           480664   \n",
       "\n",
       "            Followers  Followers gained  Views gained  Partnered  Mature  \n",
       "Language                                                                  \n",
       "English     618373437         230710296    9634526279       1269     388  \n",
       "Spanish     143016015         100425605    1834851918        259      61  \n",
       "Portuguese   77189815          42808124    1336995653        201      69  \n",
       "Russian      49135584          22290782    2181166990        202      42  \n",
       "Korean       37320077          12541257    1224398433        181       9  "
      ]
     },
     "execution_count": 138,
     "metadata": {},
     "output_type": "execute_result"
    }
   ],
   "source": [
    "df_language_sum=df.groupby(['Language']).sum()\n",
    "df_language_sum=df_language_sum.sort_values(by='Watch time', ascending=False)\n",
    "df_language_sum.head(5)\n"
   ]
  },
  {
   "cell_type": "code",
   "execution_count": 80,
   "metadata": {},
   "outputs": [
    {
     "data": {
      "image/png": "[encoded data removed]",
      "text/plain": [
       "<Figure size 432x288 with 1 Axes>"
      ]
     },
     "metadata": {
      "needs_background": "light"
     },
     "output_type": "display_data"
    }
   ],
   "source": [
    "Language_Graph_Data=df_language_mean['Watch time'].head(10)\n",
    "Language_Graph_Data.plot(kind='bar')\n",
    "plt.title(\"Average watch time based on language\")\n",
    "plt.xlabel(\"Stream Language\")\n",
    "plt.xticks(rotation=45)\n",
    "plt.ylabel(\"Watch time in minutes\")\n",
    "plt.show()"
   ]
  },
  {
   "cell_type": "markdown",
   "metadata": {},
   "source": [
    "<a id='1'></a>"
   ]
  },
  {
   "cell_type": "code",
   "execution_count": 81,
   "metadata": {},
   "outputs": [
    {
     "data": {
      "image/png": "[encoded data removed]",
      "text/plain": [
       "<Figure size 432x288 with 1 Axes>"
      ]
     },
     "metadata": {
      "needs_background": "light"
     },
     "output_type": "display_data"
    }
   ],
   "source": [
    "Language_Graph_Data=df_language_sum['Watch time'].head(10)\n",
    "Language_Graph_Data.plot(kind='bar')\n",
    "plt.title(\"Total watch time based on language\")\n",
    "plt.xlabel(\"Stream Language\")\n",
    "plt.xticks(rotation=45)\n",
    "plt.ylabel(\"Watch time in minutes\")\n",
    "plt.show()"
   ]
  },
  {
   "cell_type": "code",
   "execution_count": 125,
   "metadata": {},
   "outputs": [
    {
     "data": {
      "image/png": "[encoded data removed]",
      "text/plain": [
       "<Figure size 432x288 with 1 Axes>"
      ]
     },
     "metadata": {
      "needs_background": "light"
     },
     "output_type": "display_data"
    }
   ],
   "source": [
    "df_lang=df['Language'].value_counts()\n",
    "df_lang=df_lang.head(10)\n",
    "df_lang.plot(kind='bar')\n",
    "plt.title(\"Quantity of streams per language\")\n",
    "plt.xlabel(\"Stream language\")\n",
    "plt.xticks(rotation=45)\n",
    "plt.ylabel(\"Quantity\")\n",
    "plt.show()"
   ]
  },
  {
   "cell_type": "code",
   "execution_count": 126,
   "metadata": {},
   "outputs": [
    {
     "data": {
      "text/html": [
       "<div>\n",
       "<style scoped>\n",
       "    .dataframe tbody tr th:only-of-type {\n",
       "        vertical-align: middle;\n",
       "    }\n",
       "\n",
       "    .dataframe tbody tr th {\n",
       "        vertical-align: top;\n",
       "    }\n",
       "\n",
       "    .dataframe thead th {\n",
       "        text-align: right;\n",
       "    }\n",
       "</style>\n",
       "<table border=\"1\" class=\"dataframe\">\n",
       "  <thead>\n",
       "    <tr style=\"text-align: right;\">\n",
       "      <th></th>\n",
       "      <th>Watch time</th>\n",
       "      <th>Stream time</th>\n",
       "      <th>Peak viewers</th>\n",
       "      <th>Average viewers</th>\n",
       "      <th>Followers</th>\n",
       "      <th>Followers gained</th>\n",
       "      <th>Views gained</th>\n",
       "      <th>Mature</th>\n",
       "    </tr>\n",
       "    <tr>\n",
       "      <th>Partnered</th>\n",
       "      <th></th>\n",
       "      <th></th>\n",
       "      <th></th>\n",
       "      <th></th>\n",
       "      <th></th>\n",
       "      <th></th>\n",
       "      <th></th>\n",
       "      <th></th>\n",
       "    </tr>\n",
       "  </thead>\n",
       "  <tbody>\n",
       "    <tr>\n",
       "      <th>True</th>\n",
       "      <td>2.268068e+08</td>\n",
       "      <td>105440.499474</td>\n",
       "      <td>22703.458815</td>\n",
       "      <td>2944.998598</td>\n",
       "      <td>381871.850683</td>\n",
       "      <td>164719.550648</td>\n",
       "      <td>6.820163e+06</td>\n",
       "      <td>0.264984</td>\n",
       "    </tr>\n",
       "    <tr>\n",
       "      <th>False</th>\n",
       "      <td>1.253291e+08</td>\n",
       "      <td>135610.000000</td>\n",
       "      <td>19796.224490</td>\n",
       "      <td>3220.578231</td>\n",
       "      <td>183180.414966</td>\n",
       "      <td>112862.074830</td>\n",
       "      <td>5.699098e+06</td>\n",
       "      <td>0.265306</td>\n",
       "    </tr>\n",
       "  </tbody>\n",
       "</table>\n",
       "</div>"
      ],
      "text/plain": [
       "             Watch time    Stream time  Peak viewers  Average viewers  \\\n",
       "Partnered                                                               \n",
       "True       2.268068e+08  105440.499474  22703.458815      2944.998598   \n",
       "False      1.253291e+08  135610.000000  19796.224490      3220.578231   \n",
       "\n",
       "               Followers  Followers gained  Views gained    Mature  \n",
       "Partnered                                                           \n",
       "True       381871.850683     164719.550648  6.820163e+06  0.264984  \n",
       "False      183180.414966     112862.074830  5.699098e+06  0.265306  "
      ]
     },
     "execution_count": 126,
     "metadata": {},
     "output_type": "execute_result"
    }
   ],
   "source": [
    "df_partnership_mean=df.groupby(['Partnered']).mean()\n",
    "df_partnership_mean=df_partnership_mean.sort_values(by='Watch time', ascending=False)\n",
    "df_partnership_mean.head()"
   ]
  },
  {
   "cell_type": "markdown",
   "metadata": {},
   "source": [
    "<a id='2'></a>"
   ]
  },
  {
   "cell_type": "code",
   "execution_count": 115,
   "metadata": {},
   "outputs": [
    {
     "data": {
      "image/png": "[encoded data removed]",
      "text/plain": [
       "<Figure size 432x288 with 1 Axes>"
      ]
     },
     "metadata": {},
     "output_type": "display_data"
    }
   ],
   "source": [
    "df['Partnered'].value_counts().plot(kind='pie', autopct='%1.1f%%')\n",
    "plt.title(\"Partnership distribution of streamers\")\n",
    "plt.xlabel(\"\")\n",
    "plt.ylabel(\"\")\n",
    "plt.show()"
   ]
  },
  {
   "cell_type": "code",
   "execution_count": 127,
   "metadata": {},
   "outputs": [
    {
     "data": {
      "text/html": [
       "<div>\n",
       "<style scoped>\n",
       "    .dataframe tbody tr th:only-of-type {\n",
       "        vertical-align: middle;\n",
       "    }\n",
       "\n",
       "    .dataframe tbody tr th {\n",
       "        vertical-align: top;\n",
       "    }\n",
       "\n",
       "    .dataframe thead th {\n",
       "        text-align: right;\n",
       "    }\n",
       "</style>\n",
       "<table border=\"1\" class=\"dataframe\">\n",
       "  <thead>\n",
       "    <tr style=\"text-align: right;\">\n",
       "      <th></th>\n",
       "      <th>Watch time</th>\n",
       "      <th>Stream time</th>\n",
       "      <th>Peak viewers</th>\n",
       "      <th>Average viewers</th>\n",
       "      <th>Followers</th>\n",
       "      <th>Followers gained</th>\n",
       "      <th>Views gained</th>\n",
       "      <th>Partnered</th>\n",
       "    </tr>\n",
       "    <tr>\n",
       "      <th>Mature</th>\n",
       "      <th></th>\n",
       "      <th></th>\n",
       "      <th></th>\n",
       "      <th></th>\n",
       "      <th></th>\n",
       "      <th></th>\n",
       "      <th></th>\n",
       "      <th></th>\n",
       "    </tr>\n",
       "  </thead>\n",
       "  <tbody>\n",
       "    <tr>\n",
       "      <th>False</th>\n",
       "      <td>2.333598e+08</td>\n",
       "      <td>106026.210884</td>\n",
       "      <td>23774.847619</td>\n",
       "      <td>3247.167800</td>\n",
       "      <td>398019.703401</td>\n",
       "      <td>175870.453968</td>\n",
       "      <td>7.566857e+06</td>\n",
       "      <td>0.951020</td>\n",
       "    </tr>\n",
       "    <tr>\n",
       "      <th>True</th>\n",
       "      <td>1.898678e+08</td>\n",
       "      <td>109394.490566</td>\n",
       "      <td>19194.306918</td>\n",
       "      <td>2157.862893</td>\n",
       "      <td>300345.238994</td>\n",
       "      <td>124202.832704</td>\n",
       "      <td>4.541851e+06</td>\n",
       "      <td>0.950943</td>\n",
       "    </tr>\n",
       "  </tbody>\n",
       "</table>\n",
       "</div>"
      ],
      "text/plain": [
       "          Watch time    Stream time  Peak viewers  Average viewers  \\\n",
       "Mature                                                               \n",
       "False   2.333598e+08  106026.210884  23774.847619      3247.167800   \n",
       "True    1.898678e+08  109394.490566  19194.306918      2157.862893   \n",
       "\n",
       "            Followers  Followers gained  Views gained  Partnered  \n",
       "Mature                                                            \n",
       "False   398019.703401     175870.453968  7.566857e+06   0.951020  \n",
       "True    300345.238994     124202.832704  4.541851e+06   0.950943  "
      ]
     },
     "execution_count": 127,
     "metadata": {},
     "output_type": "execute_result"
    }
   ],
   "source": [
    "df_maturity_mean=df.groupby(['Mature']).mean()\n",
    "df_maturity_mean=df_maturity_mean.sort_values(by='Watch time', ascending=False)\n",
    "df_maturity_mean.head()"
   ]
  },
  {
   "cell_type": "markdown",
   "metadata": {},
   "source": [
    "<a id='3'></a>"
   ]
  },
  {
   "cell_type": "code",
   "execution_count": 116,
   "metadata": {},
   "outputs": [
    {
     "data": {
      "image/png": "[encoded data removed]",
      "text/plain": [
       "<Figure size 432x288 with 1 Axes>"
      ]
     },
     "metadata": {},
     "output_type": "display_data"
    }
   ],
   "source": [
    "df['Mature'].value_counts().plot(kind='pie', autopct='%1.1f%%')\n",
    "plt.title(\"Maturity distribution of streamers\")\n",
    "plt.xlabel(\"\")\n",
    "plt.ylabel(\"\")\n",
    "plt.show()"
   ]
  },
  {
   "cell_type": "markdown",
   "metadata": {},
   "source": [
    "### 2c. Checking skewness of numerical columns"
   ]
  },
  {
   "cell_type": "code",
   "execution_count": 147,
   "metadata": {},
   "outputs": [
    {
     "data": {
      "image/png": "[encoded data removed]",
      "text/plain": [
       "<Figure size 432x288 with 1 Axes>"
      ]
     },
     "metadata": {
      "needs_background": "light"
     },
     "output_type": "display_data"
    }
   ],
   "source": [
    "sns.boxplot(x=df['Stream time'])\n",
    "plt.title(\"Stream time distribution\")\n",
    "plt.show()"
   ]
  },
  {
   "cell_type": "code",
   "execution_count": 148,
   "metadata": {},
   "outputs": [
    {
     "data": {
      "image/png": "[encoded data removed]",
      "text/plain": [
       "<Figure size 432x288 with 1 Axes>"
      ]
     },
     "metadata": {
      "needs_background": "light"
     },
     "output_type": "display_data"
    }
   ],
   "source": [
    "sns.boxplot(x=df['Watch time'])\n",
    "plt.title(\"Watch time distribution\")\n",
    "plt.show()"
   ]
  },
  {
   "cell_type": "code",
   "execution_count": 149,
   "metadata": {},
   "outputs": [
    {
     "data": {
      "image/png": "[encoded data removed]",
      "text/plain": [
       "<Figure size 432x288 with 1 Axes>"
      ]
     },
     "metadata": {
      "needs_background": "light"
     },
     "output_type": "display_data"
    }
   ],
   "source": [
    "sns.boxplot(x=df['Average viewers'])\n",
    "plt.title(\"Average viewers distribution\")\n",
    "plt.show()"
   ]
  },
  {
   "cell_type": "code",
   "execution_count": 143,
   "metadata": {},
   "outputs": [
    {
     "data": {
      "image/png": "[encoded data removed]",
      "text/plain": [
       "<Figure size 432x288 with 1 Axes>"
      ]
     },
     "metadata": {
      "needs_background": "light"
     },
     "output_type": "display_data"
    }
   ],
   "source": [
    "sns.boxplot(x=df['Followers'])\n",
    "plt.title(\"Followers distribution\")\n",
    "plt.show()"
   ]
  },
  {
   "cell_type": "markdown",
   "metadata": {},
   "source": [
    "## 3. Conclusions for the top 3000 twitch channels in 2020\n",
    "\n",
    "1. English twitch channels are by far the most watched streams, followed up by Spanish and Portuguese channels. [[1]](#1)\n",
    "2. 95% of the channels are partnered [[2]](#2)\n",
    "3. 26% of the channels contain mature content. [[3]](#3)\n",
    "4. On average, streamers have streamed for 1780 hours in 2020. ( 149 hours per month, 34 hours per week, 5 hours per day) [[4]](#4)\n",
    "5. The average streamer has 3000 viewers and 370k followers [[5]](#4)\n",
    "\n",
    "*. Note that conclusions 4 and 5 are based on largely skewed data, as seen in the provided boxplot visualizations\n",
    "\n",
    "[Back To Top](#top)"
   ]
  },
  {
   "cell_type": "code",
   "execution_count": null,
   "metadata": {},
   "outputs": [],
   "source": []
  }
 ],
 "metadata": {
  "kernelspec": {
   "display_name": "Python 3",
   "language": "python",
   "name": "python3"
  },
  "language_info": {
   "codemirror_mode": {
    "name": "ipython",
    "version": 3
   },
   "file_extension": ".py",
   "mimetype": "text/x-python",
   "name": "python",
   "nbconvert_exporter": "python",
   "pygments_lexer": "ipython3",
   "version": "3.8.5"
  }
 },
 "nbformat": 4,
 "nbformat_minor": 4
}
